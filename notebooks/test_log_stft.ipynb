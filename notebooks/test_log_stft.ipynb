{
 "cells": [
  {
   "cell_type": "code",
   "execution_count": null,
   "metadata": {},
   "outputs": [],
   "source": [
    "# Test pre-normalization of specs with applying log"
   ]
  },
  {
   "cell_type": "code",
   "execution_count": null,
   "metadata": {},
   "outputs": [],
   "source": [
    "import sys\n",
    "sys.path.append('..')\n",
    "\n",
    "\n",
    "import os\n",
    "from os import path\n",
    "os.getcwd()\n",
    "\n",
    "import numpy as np\n",
    "import random as rnd\n",
    "#from keras.models import load_model\n",
    "import librosa as lr\n",
    "import librosa.display as lrd\n",
    "\n",
    "import pandas as pd\n",
    "import time\n",
    "import scipy\n"
   ]
  },
  {
   "cell_type": "code",
   "execution_count": null,
   "metadata": {},
   "outputs": [],
   "source": [
    "def s_to_power(s):\n",
    "    # remove a bin if odd number\n",
    "    if s.shape[0] % 2 != 0:\n",
    "        s = s[:-1]\n",
    "    s_power = np.log10(np.abs(s) )\n",
    "    return np.expand_dims(s_power, axis=2)\n",
    "\n",
    "def power_to_s(power, s_noisy=None):\n",
    "    s = 10**(np.abs(power[...,0]))\n",
    "    if s_noisy is not None:\n",
    "        angles = np.angle(s_noisy)\n",
    "        s = s * np.exp(1j * angles)\n",
    "    # TODO might require noisy signal as input for phase\n",
    "    # add previously removed bin\n",
    "    pad_shape = list(s.shape)\n",
    "    pad_shape[-2] = 1\n",
    "    pad_shape = tuple(pad_shape)\n",
    "    padding = np.zeros(pad_shape)\n",
    "    s = np.concatenate((s, padding), axis=-2)"
   ]
  },
  {
   "cell_type": "code",
   "execution_count": null,
   "metadata": {},
   "outputs": [],
   "source": [
    "# Parameters\n",
    "input_path = '/data/riccardo_datasets/npr_news/train/newscast220831.wav'\n",
    "n_fft = 512\n",
    "win = n_fft\n",
    "hop = win // 4"
   ]
  },
  {
   "cell_type": "code",
   "execution_count": null,
   "metadata": {},
   "outputs": [],
   "source": [
    "for offset in range(100):\n",
    "    x, sr = lr.load(input_path, sr=None, duration=1, offset=offset) #, offset=6\n",
    "    s = lr.stft(x, n_fft=n_fft, hop_length=hop, win_length=win)\n",
    "    # lrd.specshow(np.log(np.abs(s)))\n",
    "    print(np.min(np.abs(s)), np.max(np.abs(s)) ) \n",
    "#     print(np.min(np.log10(np.abs(s))), np.max(np.log10(np.abs(s))) )"
   ]
  },
  {
   "cell_type": "code",
   "execution_count": null,
   "metadata": {},
   "outputs": [],
   "source": [
    "# just abs\n",
    "(np.min(np.abs(s)), np.max(np.abs(s)) ) "
   ]
  },
  {
   "cell_type": "code",
   "execution_count": null,
   "metadata": {},
   "outputs": [],
   "source": [
    "# with log\n",
    "(np.min(np.log10(np.abs(s))), np.max(np.log10(np.abs(s))) )"
   ]
  },
  {
   "cell_type": "code",
   "execution_count": null,
   "metadata": {},
   "outputs": [],
   "source": []
  }
 ],
 "metadata": {
  "kernelspec": {
   "display_name": "Python 3",
   "language": "python",
   "name": "python3"
  },
  "language_info": {
   "codemirror_mode": {
    "name": "ipython",
    "version": 3
   },
   "file_extension": ".py",
   "mimetype": "text/x-python",
   "name": "python",
   "nbconvert_exporter": "python",
   "pygments_lexer": "ipython3",
   "version": "3.6.6"
  }
 },
 "nbformat": 4,
 "nbformat_minor": 2
}
