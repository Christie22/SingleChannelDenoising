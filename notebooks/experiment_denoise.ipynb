{
  "nbformat": 4,
  "nbformat_minor": 0,
  "metadata": {
    "colab": {
      "name": "experiment_denoise.ipynb",
      "version": "0.3.2",
      "provenance": [],
      "collapsed_sections": []
    },
    "kernelspec": {
      "name": "python3",
      "display_name": "Python 3"
    }
  },
  "cells": [
    {
      "metadata": {
        "id": "MFyZ_NOC_VNI",
        "colab_type": "code",
        "colab": {}
      },
      "cell_type": "code",
      "source": [
        "# get a trained model, a noisy piece of data, and feed the latter into the former\n",
        "\n",
        "import os\n",
        "from os import path\n",
        "import numpy as np\n",
        "import random as rnd\n",
        "#from keras.models import load_model\n",
        "import librosa\n",
        "# DSP functions such as applying noise, RIRs, or data representation conversions\n",
        "\n",
        "import pandas as pd\n",
        "import time\n",
        "import scipy\n",
        "\n",
        "# generate seed from the time at which this script is run\n",
        "rnd.seed(int(time.time()))\n",
        "import matplotlib.pyplot as plt \n",
        "\n",
        "\"\"\"\n",
        "\n",
        "#from libs.data_generator import DataGenerator\n",
        "from libs.utilities import load_autoencoder_lossfunc, load_autoencoder_model\n",
        "#from libs.model_utils import LossLayer\n",
        "from libs.processing import s_to_reim, reim_to_s, make_fragments, unmake_fragments\n",
        "\n",
        "\"\"\""
      ],
      "execution_count": 0,
      "outputs": []
    },
    {
      "metadata": {
        "id": "rMPpMk4wDMAd",
        "colab_type": "code",
        "colab": {}
      },
      "cell_type": "code",
      "source": [
        "\n",
        "\n",
        "\n",
        "### FRAGMENTING AND RECONSTRUCTING FROM FRAGMENTS\n",
        "def make_fragments(s, frag_hop_len, frag_win_len):\n",
        "    print('entered make_fragments!')\n",
        "    # convert T-F data into fragments\n",
        "    n_frags = int((s.shape[1] - frag_win_len) / frag_hop_len + 1)\n",
        "    print('just calculated n_frags!:{}'.format(n_frags) )\n",
        "    def get_slice(i):\n",
        "        lower_bound = i*frag_hop_len\n",
        "        upper_bound = i*frag_hop_len+frag_win_len\n",
        "        return s[:, lower_bound:upper_bound]\n",
        "    frags = [get_slice(i) for i in range(n_frags)]\n",
        "    return frags\n",
        "\n",
        "def unmake_fragments(s_frag, frag_hop_len, frag_win_len):\n",
        "    print('entered unmake_fragments!')\n",
        "    # TODO get to work with arbitrary input shape?\n",
        "    spec_length = (s_frag.shape[0]-1) * frag_hop_len + frag_win_len\n",
        "    s = np.zeros((s_frag.shape[1], spec_length), dtype=s_frag.dtype)\n",
        "    for i, frag in enumerate(s_frag):\n",
        "        # TODO does this use the oldest or newest part?\n",
        "        lower_bound = i*frag_hop_len\n",
        "        upper_bound = i*frag_hop_len+frag_win_len\n",
        "        s[:, lower_bound:upper_bound] = frag\n",
        "    return s\n",
        "\n",
        "\n",
        "\n",
        "### PRE/POST PROCESSING FUNCTIONS\n",
        "# convert complex spectrograms to Re/Im representation\n",
        "def s_to_reim(s):\n",
        "    # remove a bin if odd number\n",
        "    if s.shape[0] % 2 != 0:\n",
        "        s = s[:-1]\n",
        "    # split re/im\n",
        "    re = np.real(s)\n",
        "    im = np.imag(s)\n",
        "    # stack\n",
        "    reim = np.dstack((re, im))\n",
        "    return reim\n",
        "\n",
        "\n",
        "# convert Re/Im representation to complex spectrograms\n",
        "def reim_to_s(reim):\n",
        "    # extract real and imaginary components\n",
        "    re = reim[..., 0]\n",
        "    im = reim[..., 1]\n",
        "    # combine into complex values\n",
        "    s = re + 1j * im\n",
        "    # add previously removed bin\n",
        "    pad_shape = list(s.shape)\n",
        "    pad_shape[-2] = 1\n",
        "    pad_shape = tuple(pad_shape)\n",
        "    padding = np.zeros(pad_shape)\n",
        "    s = np.concatenate((s, padding), axis=-2)\n",
        "    return s\n",
        "\n",
        "\n",
        "\n",
        "### NOISING FUNCTIONS  \n",
        "def white_noise(x, snr):\n",
        "    print('Using white noise')\n",
        "    \n",
        "    N = max(x.shape)\n",
        "    # N = len(x) alternatively\n",
        "    sigma = np.sqrt( (x @ x.T) / (N * 10**(snr/10)) )\n",
        "    noise = [sigma * rnd.uniform(-1,1) for k in range( N) ]\n",
        "    \n",
        "    return x+noise\n",
        "\n",
        "\n",
        "def pink_noise(x, snr):\n",
        "    \"\"\"Generates pink noise using the Voss-McCartney algorithm.\n",
        "        \n",
        "    nrows: number of values to generate\n",
        "    rcols: number of random sources to add\n",
        "    \n",
        "    returns: NumPy array\n",
        "    \"\"\"\n",
        "    print('Using pink noise')\n",
        "    \n",
        "    nrows = len(x) #x.shape\n",
        "    ncols=16\n",
        "    \n",
        "    array = np.empty((nrows, ncols))\n",
        "    array.fill(np.nan)\n",
        "    array[0, :] = np.random.random(ncols)\n",
        "    array[:, 0] = np.random.random(nrows)\n",
        "    \n",
        "    # the total number of changes is nrows\n",
        "    n = nrows\n",
        "    cols = np.random.geometric(0.5, n)\n",
        "    cols[cols >= ncols] = 0\n",
        "    rows = np.random.randint(nrows, size=n)\n",
        "    array[rows, cols] = np.random.random(n)\n",
        "\n",
        "    df = pd.DataFrame(array)\n",
        "    df.fillna(method='ffill', axis=0, inplace=True)\n",
        "    total = df.sum(axis=1)\n",
        "\n",
        "    sigma = np.sqrt( (x @ x.T) / (nrows * 10**(snr/10)) )\n",
        "    noise= sigma*(total.values-np.mean(total.values)) / (max(total.values) - np.mean(total.values))\n",
        "    \n",
        "    return x+noise\n",
        "\n",
        "\n",
        "def velvet_noise(x, SNR):\n",
        "    print('Using velvet noise')\n",
        "    \n",
        "    N = max(x.shape)\n",
        "    # N = len(x) alternatively\n",
        "    sigma = np.sqrt( (x @ x.T) / (N * 10**(SNR/10)) )\n",
        "    print('sigma = {0}'.format(sigma))\n",
        "    rate_zero=0.95\n",
        "    myVelvetNoise = [rnd.uniform(-1, 1) for k in range( N) ] #random numbers between -1 and 1\n",
        "    noise = [sigma * ((vv> rate_zero) - (vv < -rate_zero)) for vv in myVelvetNoise]\n",
        "    return x+noise#, params\n",
        "  \n",
        "\n",
        "\n",
        "# def take_file_as_noise(x, SNR):\n",
        "#     # checking TODO\n",
        "#     N = len(x)\n",
        "#     sigma = np.sqrt( (x @ x.T) / (N * 10**(SNR/10)) )\n",
        "#     def noising_prototype( filepath):\n",
        "#         print('Using the following file as noise: {0}'.format(filepath))\n",
        "# #        path = os.path.join(filepath + '.wav')\n",
        "#         load_noise = np.load(filepath)\n",
        "#         noise =  sigma * (load_noise - np.mean(load_noise)) + np.mean(load_noise) \n",
        "#         return noise\n",
        "#     return noising_prototype\n",
        "  \n",
        "def take_file_as_noise(filepath):\n",
        "    # checking TODO\n",
        "    print('Using the following file as noise: {0}'.format(filepath))\n",
        "    # path = os.path.join(filepath + '.wav')\n",
        "    load_noise = np.load(filepath)\n",
        "    \n",
        "    def noising_prototype(x, SNR):\n",
        "        N = len(x)\n",
        "        sigma = np.sqrt( (x @ x.T) / (N * 10**(SNR/10)) )\n",
        "        noise =  sigma * (load_noise - np.mean(load_noise)) + np.mean(load_noise) \n",
        "        return noise\n",
        "    return noising_prototype\n"
      ],
      "execution_count": 0,
      "outputs": []
    },
    {
      "metadata": {
        "id": "3_a5sBye_aw6",
        "colab_type": "code",
        "colab": {}
      },
      "cell_type": "code",
      "source": [
        "def denoise(model_name, model_path, input_path, output_path,\n",
        "        sr, n_fft, hop_length, win_length, frag_hop_length, frag_win_length, \n",
        "        batch_size, cuda_device):\n",
        "\n",
        "    print('[n] Applying model in {} at {} on data in {}'.format(model_name, model_path, input_path))\n",
        "    print('[n] Denoising parameters: {}'.format({\n",
        "        'model_name': model_name,\n",
        "        'model_path': model_path,\n",
        "        'input_path': input_path,\n",
        "        'output_path': output_path,\n",
        "        'cuda_device': cuda_device\n",
        "    }))\n",
        "\n",
        "    # set GPU devices\n",
        "    os.environ[\"CUDA_VISIBLE_DEVICES\"] = cuda_device\n",
        "\n",
        "    ## Input data handling\n",
        "    print('[n] Loading data from {}...'.format(input_path))\n",
        "    # load data from file name\n",
        "    x_noisy, _ = librosa.core.load(input_path, sr=sr)\n",
        "    # convert to TF-domain\n",
        "    s = librosa.core.stft(x_noisy, n_fft=n_fft, hop_length=hop_length, win_length=win_length)\n",
        "    # apply pre-processing (data representation)\n",
        "    y_proc = s_to_reim(s)\n",
        "    # split into fragments\n",
        "    y_frags_noisy = make_fragments(y_proc, frag_hop_len=frag_hop_length, frag_win_len=frag_win_length)\n",
        "    y_frags_noisy = np.array(y_frags_noisy)\n",
        "    print('[n] Generated {} fragments with shape {}'.format(len(y_frags_noisy), y_frags_noisy[0].shape))\n",
        "    # Normalization per fragment\n",
        "    std_frag = np.empty(len(y_frags_noisy))\n",
        "    for i, yy in enumerate(y_frags_noisy):\n",
        "        std_frag[i] = np.std(yy)\n",
        "        yy = (yy - np.mean(yy))/std_frag[i]\n",
        "\n",
        "    # load trained model\n",
        "    print('[n] Loading model from {}...'.format(model_path))\n",
        "    lossfunc = load_autoencoder_lossfunc(model_name)\n",
        "    _, _, model = load_autoencoder_model(model_path, {'lossfunc': lossfunc})\n",
        "    # print model summary\n",
        "    #model.summary()\n",
        "\n",
        "    # prediction on data\n",
        "    print('[n] Predicting with trained model...')\n",
        "    y_frags_pred = model.predict(y_frags_noisy)\n",
        "    print('[n] Prediction finished!')\n",
        "\n",
        "    ## Perform inverse operations on data\n",
        "    # Inverse normalization\n",
        "    for i, yy in enumerate(y_frags_pred):\n",
        "        yy = yy *std_frag[i] # + np.mean(ss)\n",
        "    # undo batches\n",
        "    y_pred = unmake_fragments(y_frags_pred, frag_hop_len=frag_hop_length, frag_win_len=frag_win_length)\n",
        "    # convert to complex spectrogram\n",
        "    s_pred = reim_to_s(y_pred)\n",
        "    # get absolute spectrogram\n",
        "    s_pred = np.abs(s_pred) ** 2\n",
        "    # get waveform\n",
        "    x_pred = librosa.istft(s_pred, hop_length=hop_length, win_length=win_length)\n",
        "    \n",
        "    # store cleaned audio as wav file\n",
        "    librosa.output.write_wav(output_path, x_pred, sr=sr)\n",
        "\n",
        "    # very slow at the beginning then very fast (real-time possible)\n",
        "    #np.save('cleaned_data_pred', cleaned_data_pred)\n",
        "    print('Cleaned data is reconstructed and stored at {}'.format(output_path))\n",
        "\n",
        "\n",
        "    print('[n] Done!')\n",
        "\n"
      ],
      "execution_count": 0,
      "outputs": []
    },
    {
      "metadata": {
        "id": "IJpxVvP0_75b",
        "colab_type": "code",
        "colab": {
          "base_uri": "https://localhost:8080/",
          "height": 51
        },
        "outputId": "efb8301a-40ef-4cef-c9a3-af901f014e93"
      },
      "cell_type": "code",
      "source": [
        "x, sr = librosa.load(librosa.util.example_audio_file(),sr=16000)\n",
        "N = len(x)\n",
        "t = np.arange(0,N/sr,1/sr)\n",
        "SNR = 0\n",
        "sigma = np.sqrt(x@(x.T)/(N*10**(SNR/10)));\n",
        "\n",
        "\n",
        "x_noisy = x+velvet_noise(x, SNR)#x + [sigma* rnd.uniform(-.1,.1) for tt in range(len(t)) ]\n",
        "\n",
        "# (x.shape, x_noisy.shape)"
      ],
      "execution_count": 72,
      "outputs": [
        {
          "output_type": "stream",
          "text": [
            "Using velvet noise\n",
            "sigma = 0.10840618918189725\n"
          ],
          "name": "stdout"
        }
      ]
    },
    {
      "metadata": {
        "id": "gbsBk_X2T12b",
        "colab_type": "code",
        "colab": {
          "base_uri": "https://localhost:8080/",
          "height": 398
        },
        "outputId": "c8a42d00-0797-4474-b5ab-bf325a97f77e"
      },
      "cell_type": "code",
      "source": [
        "plt.subplot(2,1,1), plt.plot(x),\n",
        "plt.subplot(2,1,2), plt.plot(x_noisy), plt.show()"
      ],
      "execution_count": 59,
      "outputs": [
        {
          "output_type": "display_data",
          "data": {
            "image/png": "[encoded data removed]",
            "text/plain": [
              "<Figure size 576x396 with 2 Axes>"
            ]
          },
          "metadata": {
            "tags": []
          }
        },
        {
          "output_type": "execute_result",
          "data": {
            "text/plain": [
              "(<matplotlib.axes._subplots.AxesSubplot at 0x7f1d88237710>,\n",
              " [<matplotlib.lines.Line2D at 0x7f1d87f077f0>],\n",
              " None)"
            ]
          },
          "metadata": {
            "tags": []
          },
          "execution_count": 59
        }
      ]
    },
    {
      "metadata": {
        "id": "d8RcFXRzD7L-",
        "colab_type": "text"
      },
      "cell_type": "markdown",
      "source": [
        ""
      ]
    },
    {
      "metadata": {
        "id": "3SQeewgNAvMS",
        "colab_type": "code",
        "colab": {}
      },
      "cell_type": "code",
      "source": [
        "n_fft = 512\n",
        "hop_length = 256\n",
        "win_length  =512\n",
        "\n",
        "frag_hop_length= 256\n",
        "frag_win_length=512"
      ],
      "execution_count": 0,
      "outputs": []
    },
    {
      "metadata": {
        "id": "kF4gDhBRAZBr",
        "colab_type": "code",
        "colab": {
          "base_uri": "https://localhost:8080/",
          "height": 306
        },
        "outputId": "b572397b-42e0-4f05-e267-7eea3cb88bf8"
      },
      "cell_type": "code",
      "source": [
        "s = librosa.core.stft(x_noisy, n_fft=n_fft, hop_length=hop_length, win_length=frag_win_length)\n",
        "\n",
        "# apply pre-processing (data representation)\n",
        "y_proc = s_to_reim(s)\n",
        "\n",
        "# split into fragments\n",
        "y_frags_noisy = make_fragments(y_proc, frag_hop_len=frag_hop_length, frag_win_len=frag_win_length)\n",
        "y_frags_noisy = np.array(y_frags_noisy)\n",
        "print('[n] Generated {} fragments with shape {}'.format(len(y_frags_noisy), y_frags_noisy[0].shape))\n",
        "\n",
        "# Normalization per fragment\n",
        "std_frag = np.empty(len(y_frags_noisy))\n",
        "for i, yy in enumerate(y_frags_noisy):\n",
        "    print(yy.shape)\n",
        "    std_frag[i] = np.std(yy)\n",
        "    yy = (yy - np.mean(yy))/std_frag[i]"
      ],
      "execution_count": 91,
      "outputs": [
        {
          "output_type": "stream",
          "text": [
            "entered make_fragments!\n",
            "just calculated n_frags!:14\n",
            "[n] Generated 14 fragments with shape (256, 512, 2)\n",
            "(256, 512, 2)\n",
            "(256, 512, 2)\n",
            "(256, 512, 2)\n",
            "(256, 512, 2)\n",
            "(256, 512, 2)\n",
            "(256, 512, 2)\n",
            "(256, 512, 2)\n",
            "(256, 512, 2)\n",
            "(256, 512, 2)\n",
            "(256, 512, 2)\n",
            "(256, 512, 2)\n",
            "(256, 512, 2)\n",
            "(256, 512, 2)\n",
            "(256, 512, 2)\n"
          ],
          "name": "stdout"
        }
      ]
    },
    {
      "metadata": {
        "id": "VKb1u0ZuD-K5",
        "colab_type": "code",
        "colab": {
          "base_uri": "https://localhost:8080/",
          "height": 364
        },
        "outputId": "6186f2d5-e3bc-4d11-cd11-1842f1a6acc5"
      },
      "cell_type": "code",
      "source": [
        "plt.plot(std_frag), plt.show()\n",
        "# plt.plot(np.std(y_frags_noisy)), plt.show()"
      ],
      "execution_count": 26,
      "outputs": [
        {
          "output_type": "display_data",
          "data": {
            "image/png": "[encoded data removed]",
            "text/plain": [
              "<Figure size 576x396 with 1 Axes>"
            ]
          },
          "metadata": {
            "tags": []
          }
        },
        {
          "output_type": "execute_result",
          "data": {
            "text/plain": [
              "([<matplotlib.lines.Line2D at 0x7f1d8829d518>], None)"
            ]
          },
          "metadata": {
            "tags": []
          },
          "execution_count": 26
        }
      ]
    },
    {
      "metadata": {
        "id": "DdFWEk-IEV7X",
        "colab_type": "code",
        "colab": {
          "base_uri": "https://localhost:8080/",
          "height": 51
        },
        "outputId": "505b9a6e-7436-4b02-dc13-5aca6b4152d3"
      },
      "cell_type": "code",
      "source": [
        "# s_noisy = librosa.core.stft(x_noisy, n_fft=n_fft, hop_length=hop_length, win_length=frag_win_length)\n",
        "# s_reim = s_to_reim(s_noisy)\n",
        "# s_frag = make_fragments(s_reim, frag_hop_len=frag_hop_length, frag_win_len=frag_win_length)\n",
        "\n",
        "# for i, yy in enumerate(s_frag):\n",
        "#     yy = (yy - np.mean(yy))/std_frag[i]\n",
        "\n",
        "    # prediction on data\n",
        "print('[n] Predicting with trained model...')\n",
        "y_frags_pred = y_frags_noisy# s_frag #to be simple, let just put the clean oe as the predicted one\n",
        "print('[n] Prediction finished!')\n",
        "\n",
        "# plt.subplot(2,1,1), plt.plot(x),\n",
        "# plt.subplot(2,1,2), plt.plot(x_noisy), plt.show()"
      ],
      "execution_count": 88,
      "outputs": [
        {
          "output_type": "stream",
          "text": [
            "[n] Predicting with trained model...\n",
            "[n] Prediction finished!\n"
          ],
          "name": "stdout"
        }
      ]
    },
    {
      "metadata": {
        "id": "NJydwcRBfJ09",
        "colab_type": "code",
        "colab": {
          "base_uri": "https://localhost:8080/",
          "height": 289
        },
        "outputId": "4a39ea04-b2b6-479e-f548-ae1757eb1ef5"
      },
      "cell_type": "code",
      "source": [
        "## Perform inverse operations on data\n",
        "# Inverse normalization\n",
        "for i, yy in enumerate(y_frags_pred):\n",
        "    print(yy.shape)\n",
        "    yy = yy *std_frag[i] # + np.mean(ss)\n",
        "y_frags_pred = np.array(y_frags_pred)\n",
        "print('y_frags_pred: ',y_frags_pred.shape)\n",
        "\n",
        "# convert to complex spectrogram\n",
        "s_pred = reim_to_s(y_frags_pred)\n",
        "# undo batches\n",
        "s_pred = unmake_fragments(s_pred, frag_hop_len=frag_hop_length, frag_win_len=frag_win_length)\n",
        "\n",
        "# get absolute spectrogram\n",
        "s_pred = np.abs(s_pred) ** 2\n",
        "# get waveform\n",
        "x_pred = librosa.istft(s_pred, hop_length=hop_length, win_length=win_length)"
      ],
      "execution_count": 90,
      "outputs": [
        {
          "output_type": "stream",
          "text": [
            "(256, 512, 2)\n",
            "(256, 512, 2)\n",
            "(256, 512, 2)\n",
            "(256, 512, 2)\n",
            "(256, 512, 2)\n",
            "(256, 512, 2)\n",
            "(256, 512, 2)\n",
            "(256, 512, 2)\n",
            "(256, 512, 2)\n",
            "(256, 512, 2)\n",
            "(256, 512, 2)\n",
            "(256, 512, 2)\n",
            "(256, 512, 2)\n",
            "(256, 512, 2)\n",
            "y_frags_pred:  (14, 256, 512, 2)\n",
            "entered unmake_fragments!\n"
          ],
          "name": "stdout"
        }
      ]
    },
    {
      "metadata": {
        "id": "Zg3SKj7qecoa",
        "colab_type": "code",
        "colab": {
          "base_uri": "https://localhost:8080/",
          "height": 364
        },
        "outputId": "1f3ee764-a2e5-4938-bcad-08e499690fd4"
      },
      "cell_type": "code",
      "source": [
        "plt.subplot(2,1,1), plt.plot(x_pred),\n",
        "plt.subplot(2,1,2), plt.plot(x_noisy), plt.show()\n",
        "(np.max(x_noisy), np.max(x_pred))"
      ],
      "execution_count": 87,
      "outputs": [
        {
          "output_type": "display_data",
          "data": {
            "image/png": "[encoded data removed]",
            "text/plain": [
              "<Figure size 576x396 with 2 Axes>"
            ]
          },
          "metadata": {
            "tags": []
          }
        },
        {
          "output_type": "execute_result",
          "data": {
            "text/plain": [
              "(1.3041483163833618, 6.1044416)"
            ]
          },
          "metadata": {
            "tags": []
          },
          "execution_count": 87
        }
      ]
    }
  ]
}