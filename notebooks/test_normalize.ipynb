{
 "cells": [
  {
   "cell_type": "code",
   "execution_count": 58,
   "metadata": {},
   "outputs": [],
   "source": [
    "## Normalization test\n",
    "# Use DataGenerator and evaluate if the clean signal and itself unnoised \n",
    "# going through the model have same properties (mean, std) or not\n",
    "\n"
   ]
  },
  {
   "cell_type": "code",
   "execution_count": 59,
   "metadata": {},
   "outputs": [],
   "source": [
    "import sys\n",
    "sys.path.append('..')\n",
    "\n",
    "\n",
    "import os\n",
    "from os import path\n",
    "os.getcwd()\n",
    "\n",
    "import numpy as np\n",
    "import random as rnd\n",
    "#from keras.models import load_model\n",
    "import librosa as lr\n",
    "\n",
    "import pandas as pd\n",
    "import time\n",
    "import scipy\n",
    "import glob\n",
    "\n",
    "from libs.data_generator import DataGenerator\n",
    "from libs.processing import normalize_spectrum, normalize_spectrum_clean, unnormalize_spectrum, pink_noise"
   ]
  },
  {
   "cell_type": "code",
   "execution_count": 60,
   "metadata": {},
   "outputs": [],
   "source": [
    "### Pre-test of these functions: applying normalization to a simple spectrogram"
   ]
  },
  {
   "cell_type": "code",
   "execution_count": 61,
   "metadata": {},
   "outputs": [],
   "source": [
    "# Parameters\n",
    "input_path = '/data/riccardo_datasets/npr_news/train/newscast220831.wav'\n",
    "n_fft = 512\n",
    "win = n_fft\n",
    "hop = win // 4"
   ]
  },
  {
   "cell_type": "code",
   "execution_count": 62,
   "metadata": {},
   "outputs": [
    {
     "data": {
      "text/plain": [
       "(28.367426, 4.452742)"
      ]
     },
     "execution_count": 62,
     "metadata": {},
     "output_type": "execute_result"
    }
   ],
   "source": [
    "# Reading clean speech file and analysing it\n",
    "x, sr = lr.load(input_path, sr=None, duration=1, offset=2)\n",
    "s_c = lr.stft(x, n_fft=n_fft, hop_length=hop, win_length=win)\n",
    "\n",
    "snorm_c, normfactor_c = normalize_spectrum(s_c**2)\n",
    "s_avg = np.mean(abs(s_c**2))\n",
    "normfactor_c, s_avg\n"
   ]
  },
  {
   "cell_type": "code",
   "execution_count": 63,
   "metadata": {},
   "outputs": [
    {
     "data": {
      "text/plain": [
       "(28.581165, 4.5237546)"
      ]
     },
     "execution_count": 63,
     "metadata": {},
     "output_type": "execute_result"
    }
   ],
   "source": [
    "# Ennoising it\n",
    "snr = 10\n",
    "xnoise = pink_noise(x, sr, snr)\n",
    "s_n = lr.stft(xnoise, n_fft=n_fft, hop_length=hop, win_length=win)\n",
    "\n",
    "snorm_n, normfactor_n = normalize_spectrum(s_n**2)\n",
    "s_avg = np.mean(abs(s_n**2))\n",
    "normfactor_n, s_avg\n"
   ]
  },
  {
   "cell_type": "code",
   "execution_count": 64,
   "metadata": {},
   "outputs": [
    {
     "data": {
      "text/plain": [
       "(0.98026115, 0.15579289)"
      ]
     },
     "execution_count": 64,
     "metadata": {},
     "output_type": "execute_result"
    }
   ],
   "source": [
    "# Normalize clean spec with noisy normfactor\n",
    "s_c_n = normalize_spectrum_clean(abs(s_c**2), normfactor_n)\n",
    "np.std(s_c_n), np.mean(s_c_n)"
   ]
  },
  {
   "cell_type": "code",
   "execution_count": 57,
   "metadata": {},
   "outputs": [
    {
     "data": {
      "text/plain": [
       "(28.367424, 4.452742)"
      ]
     },
     "execution_count": 57,
     "metadata": {},
     "output_type": "execute_result"
    }
   ],
   "source": [
    "s_un = unnormalize_spectrum(s_c_n, normfactor_n)\n",
    "np.std(sun), np.mean(s_un)"
   ]
  },
  {
   "cell_type": "code",
   "execution_count": 47,
   "metadata": {},
   "outputs": [],
   "source": [
    "### Arguments for DataGenerator"
   ]
  },
  {
   "cell_type": "code",
   "execution_count": null,
   "metadata": {},
   "outputs": [],
   "source": [
    "# Creating DataGenerator object\n",
    "testing_generator = DataGenerator(filepath_list[:4], **generator_args)"
   ]
  },
  {
   "cell_type": "code",
   "execution_count": null,
   "metadata": {},
   "outputs": [],
   "source": []
  }
 ],
 "metadata": {
  "kernelspec": {
   "display_name": "Python 3",
   "language": "python",
   "name": "python3"
  },
  "language_info": {
   "codemirror_mode": {
    "name": "ipython",
    "version": 3
   },
   "file_extension": ".py",
   "mimetype": "text/x-python",
   "name": "python",
   "nbconvert_exporter": "python",
   "pygments_lexer": "ipython3",
   "version": "3.6.6"
  }
 },
 "nbformat": 4,
 "nbformat_minor": 2
}
