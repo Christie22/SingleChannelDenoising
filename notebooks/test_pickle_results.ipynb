{
 "cells": [
  {
   "cell_type": "code",
   "execution_count": null,
   "metadata": {},
   "outputs": [],
   "source": [
    "import os\n",
    "import time\n",
    "import sys\n",
    "import itertools\n",
    "import json\n",
    "import librosa as lr\n",
    "import librosa.display as lrd\n",
    "import numpy as np\n",
    "import os.path as osp\n",
    "\n",
    "import matplotlib.pyplot as plt\n",
    "import IPython.display as ipd\n",
    "from sklearn.metrics import mean_squared_error\n",
    "\n",
    "%matplotlib inline\n",
    "\n",
    "sys.path.append(\"..\")\n",
    "import pickle as pk"
   ]
  },
  {
   "cell_type": "code",
   "execution_count": null,
   "metadata": {},
   "outputs": [],
   "source": [
    "# phase 2 - ds1 - db\n",
    "res_path = '/home/christie/model_190517_1547_conv_tcn_a30f3a/results_190523_0026.pkl'\n",
    "# tcn-mag-train: results/model_190517_1742_conv_tcn_182082/results_190522_2301.pkl\n",
    "# tcn-db-train: results/model_190517_1547_conv_tcn_a30f3a/results_190521_2237.pkl\n",
    "# tcn-mag-test: results/model_190517_1742_conv_tcn_182082/results_190523_0016.pkl\n",
    "# tcn-db-test: results/model_190517_1547_conv_tcn_a30f3a/results_190523_0026.pkl"
   ]
  },
  {
   "cell_type": "code",
   "execution_count": null,
   "metadata": {},
   "outputs": [],
   "source": [
    "with open(res_path,'rb') as f: \n",
    "    res = pk.load(f)\n",
    "res\n"
   ]
  },
  {
   "cell_type": "code",
   "execution_count": null,
   "metadata": {},
   "outputs": [],
   "source": [
    "res.shape\n",
    "nb_occur = res['mse'].shape[0]\n",
    "print(nb_occur)"
   ]
  },
  {
   "cell_type": "code",
   "execution_count": null,
   "metadata": {},
   "outputs": [],
   "source": [
    "# mse\n",
    "\n",
    "mse_5 =  [res['mse'][2*im] for im in range(nb_occur//2) ]#np.zeros()\n",
    "mse_15 = [res['mse'][2*im+1] for im in range(nb_occur//2) ]\n",
    "# print(\"mse_5 :\", mse_5, \",\\n mse_15 :\", mse_15)\n",
    "\n",
    "mean_mse_5, std_mse_5 = np.mean(mse_5), np.std(mse_5)\n",
    "mean_mse_15, std_mse_15 = np.mean(mse_15), np.std(mse_15)\n",
    "print(\"mean_mse_5: {}, std_mse_5: {}\".format(mean_mse_5, std_mse_5))\n",
    "print(\"mean_mse_15 {}, std_mse_15: {}\".format(mean_mse_15, std_mse_15))"
   ]
  },
  {
   "cell_type": "code",
   "execution_count": null,
   "metadata": {},
   "outputs": [],
   "source": [
    "# sdr\n",
    "\n",
    "sdr_5 =  [res['sdr'][2*im] for im in range(nb_occur//2) ]#np.zeros()\n",
    "sdr_15 = [res['sdr'][2*im+1] for im in range(nb_occur//2) ]\n",
    "# print(\"sdr_5 :\", sdr_5, \",\\n sdr_15 :\", sdr_15)\n",
    "\n",
    "mean_sdr_5, std_sdr_5 = np.mean(sdr_5), np.std(sdr_5)\n",
    "mean_sdr_15, std_sdr_15 = np.mean(sdr_15), np.std(sdr_15)\n",
    "print(\"mean_sdr_5: {}, std_sdr_5: {}\".format(mean_sdr_5, std_sdr_5))\n",
    "print(\"mean_sdr_15 {}, std_sdr_15: {}\".format(mean_sdr_15, std_sdr_15))"
   ]
  },
  {
   "cell_type": "code",
   "execution_count": null,
   "metadata": {},
   "outputs": [],
   "source": [
    "# sir\n",
    "\n",
    "sir_5 =  [res['sir'][2*im] for im in range(nb_occur//2) ]#np.zeros()\n",
    "sir_15 = [res['sir'][2*im+1] for im in range(nb_occur//2) ]\n",
    "# print(\"sir_5 :\", sir_5, \",\\n sir_15 :\", sir_15)\n",
    "\n",
    "mean_sir_5, std_sir_5 = np.mean(sir_5), np.std(sir_5)\n",
    "mean_sir_15, std_sir_15 = np.mean(sir_15), np.std(sir_15)\n",
    "print(\"mean_sir_5: {}, std_sir_5: {}\".format(mean_sir_5, std_sir_5))\n",
    "print(\"mean_sir_15 {}, std_sir_15: {}\".format(mean_sir_15, std_sir_15))"
   ]
  },
  {
   "cell_type": "code",
   "execution_count": null,
   "metadata": {},
   "outputs": [],
   "source": [
    "# sar\n",
    "\n",
    "sar_5 =  [res['sar'][2*im] for im in range(nb_occur//2) ]#np.zeros()\n",
    "sar_15 = [res['sar'][2*im+1] for im in range(nb_occur//2) ]\n",
    "# print(\"sar_5 :\", sar_5, \",\\n sar_15 :\", sar_15)\n",
    "\n",
    "mean_sar_5, std_sar_5 = np.mean(sar_5), np.std(sar_5)\n",
    "mean_sar_15, std_sar_15 = np.mean(sar_15), np.std(sar_15)\n",
    "print(\"mean_sar_5: {}, std_sar_5: {}\".format(mean_sar_5, std_sar_5))\n",
    "print(\"mean_sar_15 {}, std_sar_15: {}\".format(mean_sar_15, std_sar_15))"
   ]
  },
  {
   "cell_type": "code",
   "execution_count": null,
   "metadata": {},
   "outputs": [],
   "source": [
    "# stoi\n",
    "\n",
    "stoi_5 =  [res['stoi'][2*im] for im in range(nb_occur//2) ]#np.zeros()\n",
    "stoi_15 = [res['stoi'][2*im+1] for im in range(nb_occur//2) ]\n",
    "# print(\"stoi_5 :\", stoi_5, \",\\n stoi_15 :\", stoi_15)\n",
    "\n",
    "mean_stoi_5, std_stoi_5 = np.mean(stoi_5), np.std(stoi_5)\n",
    "mean_stoi_15, std_stoi_15 = np.mean(stoi_15), np.std(stoi_15)\n",
    "print(\"mean_stoi_5: {}, std_stoi_5: {}\".format(mean_stoi_5, std_stoi_5))\n",
    "print(\"mean_stoi_15 {}, std_stoi_15: {}\".format(mean_stoi_15, std_stoi_15))"
   ]
  },
  {
   "cell_type": "code",
   "execution_count": null,
   "metadata": {},
   "outputs": [],
   "source": [
    "# pesq\n",
    "\n",
    "pesq_5 =  [res['pesq'][2*im] for im in range(nb_occur//2) ]#np.zeros()\n",
    "pesq_15 = [res['pesq'][2*im+1] for im in range(nb_occur//2) ]\n",
    "# print(\"pesq_5 :\", pesq_5, \",\\n pesq_15 :\", pesq_15)\n",
    "\n",
    "mean_pesq_5, std_pesq_5 = np.mean(pesq_5), np.std(pesq_5)\n",
    "mean_pesq_15, std_pesq_15 = np.mean(pesq_15), np.std(pesq_15)\n",
    "print(\"mean_pesq_5: {}, std_pesq_5: {}\".format(mean_pesq_5, std_pesq_5))\n",
    "print(\"mean_pesq_15 {}, std_pesq_15: {}\".format(mean_pesq_15, std_pesq_15))\n"
   ]
  },
  {
   "cell_type": "code",
   "execution_count": null,
   "metadata": {},
   "outputs": [],
   "source": []
  },
  {
   "cell_type": "code",
   "execution_count": null,
   "metadata": {},
   "outputs": [],
   "source": []
  }
 ],
 "metadata": {
  "kernelspec": {
   "display_name": "Python 3",
   "language": "python",
   "name": "python3"
  },
  "language_info": {
   "codemirror_mode": {
    "name": "ipython",
    "version": 3
   },
   "file_extension": ".py",
   "mimetype": "text/x-python",
   "name": "python",
   "nbconvert_exporter": "python",
   "pygments_lexer": "ipython3",
   "version": "3.6.6"
  }
 },
 "nbformat": 4,
 "nbformat_minor": 2
}
