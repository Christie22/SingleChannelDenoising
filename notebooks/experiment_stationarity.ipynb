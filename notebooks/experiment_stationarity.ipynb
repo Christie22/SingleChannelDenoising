{
 "cells": [
  {
   "cell_type": "code",
   "execution_count": null,
   "metadata": {},
   "outputs": [],
   "source": [
    "import os\n",
    "import time\n",
    "import sys\n",
    "import librosa as lr\n",
    "import librosa.display as lrd\n",
    "import numpy as np\n",
    "\n",
    "import matplotlib.pyplot as plt\n",
    "import IPython.display as ipd\n",
    "from sklearn.metrics import mean_squared_error\n",
    "\n",
    "%matplotlib inline"
   ]
  },
  {
   "cell_type": "code",
   "execution_count": null,
   "metadata": {},
   "outputs": [],
   "source": [
    "# Noise files\n",
    "noisefolder = ['TCAR','TBUS','TMETRO','OOFFICE','OHALLWAY','OMEETING','DLIVING','DKITCHEN','DWASHING',\\\n",
    "               'NFIELD','NPARK','NRIVER', 'PCAFETER','PRESTO','PSTATION','SCAFE','SPSQUARE','STRAFFIC']\n",
    "sr = 16000\n",
    "win_size = np.int(0.256 * sr)\n",
    "hop_size_p = 0.5 # proportion\n",
    "hop_size = np.int(hop_size_p*win_size)\n",
    "print(win_size, hop_size)"
   ]
  },
  {
   "cell_type": "code",
   "execution_count": null,
   "metadata": {},
   "outputs": [],
   "source": [
    "### Plot the wav files\n",
    "for n in range(len(noisefolder)):\n",
    "    noisefile = '/data/riccardo_datasets/demand/'+noisefolder[n]+'/ch01.wav'\n",
    "    x, _ = lr.load(noisefile, sr)\n",
    "    plt.plot(x), plt.show(), plt.title(noisefolder[n])\n",
    "#     print(noisefile)\n"
   ]
  },
  {
   "cell_type": "code",
   "execution_count": null,
   "metadata": {},
   "outputs": [],
   "source": [
    "### Listen to a particular audio file\n",
    "n = 16\n",
    "print(noisefolder[n])\n",
    "noisefile = '/data/riccardo_datasets/demand/'+noisefolder[n]+'/ch01.wav'\n",
    "x, _ = lr.load(noisefile, sr)\n",
    "ipd.Audio(x, rate=sr)"
   ]
  },
  {
   "cell_type": "code",
   "execution_count": null,
   "metadata": {},
   "outputs": [],
   "source": [
    "### Calculate statistics on the amplitude of the speech signals\n",
    "maxes = np.zeros((len(noisefolder)))\n",
    "mean_g = np.zeros((len(noisefolder)))\n",
    "std_g = np.zeros((len(noisefolder)))\n",
    "std_l_mean = np.zeros((len(noisefolder)))\n",
    "std_l_std = np.zeros((len(noisefolder)))\n",
    "\n",
    "for n in range(len(noisefolder)): #1):#\n",
    "    noisefile = '/data/riccardo_datasets/demand/'+noisefolder[n]+'/ch01.wav'\n",
    "    y, _ = lr.load(noisefile, sr)\n",
    "    maxes[n] = np.max(y)\n",
    "    x = y/maxes[n]\n",
    "\n",
    "    # Calculate statistics of the signal\n",
    "    mean_g[n] = x.mean()\n",
    "    std_g[n] = x.std()\n",
    "    #print(mean_g[n], std_g[n])\n",
    "\n",
    "    n_frag = 1 + np.int((len(x)-win_size)/hop_size)\n",
    "    print('n_frag: {}'.format(n_frag))\n",
    "    \n",
    "    mean_l = np.zeros((n_frag))\n",
    "    std_l = np.zeros((n_frag))\n",
    "    \n",
    "    ind = 0\n",
    "    for f in range(n_frag):\n",
    "        #print(ind)\n",
    "        # Calculate statistics on frames of the signal\n",
    "        mean_l[f] = x[ind: ind+win_size].mean()\n",
    "        std_l[f] = x[ind: ind+win_size].std()\n",
    "        ind += hop_size\n",
    "\n",
    "    plt.subplot(1,2,1), plt.plot(mean_l), plt.title('Means of the framed signal')\n",
    "    plt.subplot(1,2,2), plt.plot(std_l), plt.title('Stds of the framed signal')\n",
    "    plt.show()\n",
    "    \n",
    "    # Calculate statistics on the variance of the signal\n",
    "    std_l_mean[n] = std_l.mean()\n",
    "    std_l_std[n] = std_l.std()\n",
    "#     print('mean(std): {}, std(std): {}'.format( std_l_mean[n], std_l_std[n]))\n",
    "    \n",
    "    \n",
    "plt.subplot(2,1,1), plt.plot(mean_g), plt.title('Global Means of the signals')\n",
    "plt.subplot(2,1,2),plt.plot(std_g), plt.title('Global Stds of the signals')\n",
    "plt.show()\n",
    "\n",
    "plt.subplot(1,2,1), plt.plot(std_l_mean), plt.title('mean(std)')\n",
    "plt.subplot(1,2,2), plt.plot(std_l_std), plt.title('std(std)')\n",
    "plt.show()"
   ]
  },
  {
   "cell_type": "code",
   "execution_count": null,
   "metadata": {},
   "outputs": [],
   "source": []
  }
 ],
 "metadata": {
  "kernelspec": {
   "display_name": "Python 3",
   "language": "python",
   "name": "python3"
  },
  "language_info": {
   "codemirror_mode": {
    "name": "ipython",
    "version": 3
   },
   "file_extension": ".py",
   "mimetype": "text/x-python",
   "name": "python",
   "nbconvert_exporter": "python",
   "pygments_lexer": "ipython3",
   "version": "3.6.6"
  }
 },
 "nbformat": 4,
 "nbformat_minor": 2
}
