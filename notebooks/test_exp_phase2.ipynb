{
 "cells": [
  {
   "cell_type": "code",
   "execution_count": null,
   "metadata": {},
   "outputs": [],
   "source": [
    "import os\n",
    "import time\n",
    "import sys\n",
    "import itertools\n",
    "import json\n",
    "import librosa as lr\n",
    "import librosa.display as lrd\n",
    "import numpy as np\n",
    "import os.path as osp\n",
    "\n",
    "import matplotlib.pyplot as plt\n",
    "import IPython.display as ipd\n",
    "from sklearn.metrics import mean_squared_error\n",
    "\n",
    "%matplotlib inline\n",
    "\n",
    "sys.path.append(\"..\")\n",
    "from libs.utilities import load_autoencoder_lossfunc, load_autoencoder_model, get_func_name\n",
    "from libs.processing import pink_noise, take_file_as_noise, \\\n",
    "    make_fragments, unmake_fragments, unmake_fragments_slice, \\\n",
    "    s_to_exp, exp_to_s, s_to_reim, reim_to_s, s_to_db, db_to_s , \\\n",
    "    normalize_spectrum, normalize_spectrum_clean, unnormalize_spectrum  \n"
   ]
  },
  {
   "cell_type": "code",
   "execution_count": null,
   "metadata": {},
   "outputs": [],
   "source": [
    "# LOAD LOGS (log order is different from argument list order!)\n",
    "mag_or_db = 'db'\n",
    "memory_type = 'tcn' # gru, rnn, tcn\n",
    "model_name = 'conv_' + memory_type\n",
    "file_type = 'train' # 'valid' or 'train'\n",
    "\n",
    "# logs_path = '/home/christie/SingleChannelDenoising_source/train_logs/logs_'+memory_type+'_'+mag_or_db+'.json'\n",
    "# print(logs_path)\n",
    "# with open(logs_path) as f:\n",
    "#     logs = json.load(f)"
   ]
  },
  {
   "cell_type": "code",
   "execution_count": null,
   "metadata": {},
   "outputs": [],
   "source": [
    "# some parameters\n",
    "file_name = 'NPR_News__04-03-2018_12AM_ET.wav' if file_type=='train' else 'newscast230834.wav'\n",
    "# train: NPR_News__04-03-2018_12AM_ET.wav\n",
    "# valid: newscast230834.wav\n",
    "input_path = '/data/riccardo_datasets/npr_news/ds1/train/' + file_name\n",
    "sr = 16000\n",
    "snr = 15\n",
    "n_fft = 512\n",
    "hop_length = 128\n",
    "win_length = 512\n",
    "\n",
    "frag_hop_length = 1\n",
    "\n",
    "frag_win_length = 32\n",
    "os.environ[\"CUDA_VISIBLE_DEVICES\"] = '2'\n",
    "\n",
    "\n",
    "normalize = [False] \n",
    "slice_width = [1]\n",
    "trim_negatives = False\n",
    "\n",
    "proc_func_args_2 = [\n",
    "    (s_to_exp(1.0),   exp_to_s(1.0)) if mag_or_db=='mag' \n",
    "                                    else (s_to_db, db_to_s)]\n",
    "\n",
    "args_list_2 = list(itertools.product(normalize, proc_func_args_2, slice_width))\n",
    "\n",
    "print('\\n'.join(['{:2}. {} {} {}'.format(i, arg[0], get_func_name(arg[1][0]), arg[2]) \n",
    "                 for i,arg in enumerate(args_list_2)]))\n",
    "\n"
   ]
  },
  {
   "cell_type": "code",
   "execution_count": null,
   "metadata": {},
   "outputs": [],
   "source": [
    " # load data from file name\n",
    "x, _ = lr.load(input_path, sr=sr, duration=30, offset=120)\n",
    "\n",
    "# apply noise!\n",
    "x_noisy = pink_noise(x=x, sr=sr, snr=snr)\n",
    "\n",
    "# convert to TF-domain\n",
    "s = lr.stft(x, n_fft=n_fft, hop_length=hop_length, win_length=win_length)\n",
    "s_noisy = lr.stft(x_noisy, n_fft=n_fft, hop_length=hop_length, win_length=win_length)\n",
    "    "
   ]
  },
  {
   "cell_type": "code",
   "execution_count": null,
   "metadata": {},
   "outputs": [],
   "source": [
    "def run_the_whole_thing(args_index, use_phase=True, trim_negatives=False):\n",
    "    # collect variable arguments\n",
    "#     print(args_list_2[args_index])\n",
    "    normalize, proc_funcs, slice_width = args_list_2[args_index]\n",
    "    proc_func, unproc_func = proc_funcs\n",
    "\n",
    "    \n",
    "#     print('[dn] Loading data from {}...'.format(input_path))\n",
    "   # split into fragments\n",
    "    s_frags = make_fragments(s, frag_hop_len=frag_hop_length, frag_win_len=frag_win_length)\n",
    "    s_frags_noisy = make_fragments(s_noisy, frag_hop_len=frag_hop_length, frag_win_len=frag_win_length)\n",
    "    # apply pre-processing (data representation)\n",
    "    y_frags = proc_func(s_frags)\n",
    "    y_frags_noisy = proc_func(s_frags_noisy)\n",
    "#     print('[dn] Generated {} fragments with shape {}'.format(len(y_frags_noisy), y_frags_noisy[0].shape))\n",
    "    # normalization factors\n",
    "    nf_frags = np.empty((len(y_frags), 2))\n",
    "    nf_frags_noisy = np.empty((len(y_frags_noisy), 2))\n",
    "    y_frags_n = np.zeros_like(y_frags)\n",
    "    y_frags_noisy_n = np.zeros_like(y_frags_noisy)\n",
    "\n",
    "    # normalize fragments (batch-wise)\n",
    "    #y_frags_noisy_n, nf_frags_noisy = normalize_spectrum(y_frags_noisy)\n",
    "    #print(nf_frags_noisy)\n",
    "\n",
    "\n",
    "    # normalize fragments (individually)\n",
    "    for i in range(len(y_frags_noisy)):\n",
    "        frag_normalized, frag_norm_factors = normalize_spectrum(y_frags[i])\n",
    "        frag_normalized_noisy, frag_norm_factors_noisy = normalize_spectrum(y_frags_noisy[i])\n",
    "        y_frags_n[i] = frag_normalized if normalize else y_frags[i]\n",
    "        y_frags_noisy_n[i] = frag_normalized_noisy if normalize else y_frags_noisy[i]\n",
    "        nf_frags_noisy[i] = frag_norm_factors_noisy\n",
    "        nf_frags[i] = frag_norm_factors\n",
    "\n",
    "#     time_slice = slice(np.int(frag_win_length//2 - slice_width/2), \\\n",
    "#                          np.int(frag_win_length//2 + slice_width/2)) \n",
    "    \n",
    "    time_slice = slice(0,3) \n",
    "\n",
    "#     print('time_slice :', time_slice.start, time_slice.stop)\n",
    "    \n",
    "    \n",
    "    #### LOAD TRAINED MODEL ###\n",
    "    model_path = '/data/riccardo_models/denoising/phase2/ds1/'+mag_or_db+'/'+model_name+'.h5'\n",
    "    print(\"model_path :\", model_path)\n",
    "    model, lossfunc = load_autoencoder_model(model_path, time_slice=time_slice)\n",
    "\n",
    "\n",
    "    ### PREDICT DATA ###\n",
    "#     print('[dn] Predicting with trained model...')\n",
    "    y_frags_pred = model.predict(y_frags_noisy_n)\n",
    "#     y_frags_pred = y_frags_noisy_n\n",
    "#     print('[dn] Prediction finished! Generated {} fragments'.format(len(y_frags_pred)))\n",
    "\n",
    "\n",
    "    ### PLOT A FEW PREDICTED FRAGMENTS ###\n",
    "    specrange = np.linspace(0, len(y_frags_pred), 3, dtype=int)\n",
    "    sample_specs = []\n",
    "#     print(list(specrange))\n",
    "\n",
    "    plt.figure(figsize=(18, 6))\n",
    "    plt.suptitle('Clean (true), noisy, and predicted sample fragments (normalized)')\n",
    "    rangespan = len(specrange)\n",
    "    j = 1\n",
    "    y_frags_pred_dn = np.zeros_like(y_frags_pred)\n",
    "    for i in range(len(y_frags_pred)):\n",
    "        # un-normalize (individually)\n",
    "        y_frags_pred_dn[i] = unnormalize_spectrum(y_frags_pred[i], nf_frags_noisy[i]) if normalize else y_frags_pred[i]\n",
    "        if i in specrange:  \n",
    "            sample_specs.append((y_frags_noisy_n[i,...,0], y_frags_pred[i,...,0]))\n",
    "            plt.subplot(3,rangespan,j)\n",
    "            lrd.specshow(lr.amplitude_to_db(y_frags_n[i,...,0]), vmin=-10, vmax=5, cmap='coolwarm')\n",
    "\n",
    "            plt.subplot(3,rangespan,rangespan+j)\n",
    "            lrd.specshow(lr.amplitude_to_db(y_frags_noisy_n[i,...,0]), vmin=-10, vmax=5, cmap='coolwarm')\n",
    "\n",
    "            plt.subplot(3,rangespan,rangespan*2+j)\n",
    "            lrd.specshow(lr.amplitude_to_db(y_frags_pred[i,...,0]), vmin=-10, vmax=5, cmap='coolwarm')\n",
    "\n",
    "            j += 1\n",
    "\n",
    "\n",
    "    # un-normalize (batch-wise)\n",
    "    #y_frags_pred_dn = unnormalize_spectrum(y_frags_pred, nf_frags_noisy)\n",
    "\n",
    "    # trim negative values\n",
    "    if trim_negatives:\n",
    "        y_frags_pred[y_frags_pred < 0] = 0\n",
    "    s_pred = unproc_func(y_frags_pred, s_frags_noisy) if use_phase else unproc_func(y_frags_pred)\n",
    "\n",
    "    # undo fragments\n",
    "    \n",
    "    s_pred = unmake_fragments_slice(s_pred, frag_hop_len=frag_hop_length, frag_win_len=frag_win_length, time_slice=time_slice)\n",
    "    \n",
    "    # get waveform\n",
    "    x_pred = lr.istft(s_pred, hop_length=hop_length, win_length=win_length)\n",
    "\n",
    "\n",
    "\n",
    "    ### PLOT RESULT AND LISTEN ###\n",
    "    duration = 20\n",
    "    offset = 2\n",
    "    l = lr.time_to_frames(duration, sr=sr, n_fft=n_fft, hop_length=hop_length)\n",
    "    o = lr.time_to_frames(offset, sr=sr, n_fft=n_fft, hop_length=hop_length)\n",
    "    print(o,l)\n",
    "\n",
    "    plt.figure(figsize=(18, 5))\n",
    "    plt.suptitle('True and predicted spectrograms (de-normalized, {} seconds)'.format(duration))\n",
    "\n",
    "    plt.subplot(211)\n",
    "    lrd.specshow(lr.amplitude_to_db(np.abs(s[:,o:o+l])), vmin=-50, vmax=25, cmap='coolwarm')\n",
    "    plt.colorbar()\n",
    "\n",
    "    plt.subplot(212)\n",
    "    lrd.specshow(lr.amplitude_to_db(np.abs(s_pred[:,o:o+l])), vmin=-50, vmax=25, cmap='coolwarm')\n",
    "    plt.colorbar()\n",
    "    \n",
    "    print('done!')\n",
    "    return x_pred, s_pred, sample_specs\n",
    "    "
   ]
  },
  {
   "cell_type": "code",
   "execution_count": null,
   "metadata": {
    "scrolled": false
   },
   "outputs": [],
   "source": [
    "# TEST VARIOUS MODELS HERE\n",
    "        \n",
    "x_pred, s_pred, sample_specs = run_the_whole_thing(0, use_phase=True, trim_negatives=trim_negatives)\n"
   ]
  },
  {
   "cell_type": "code",
   "execution_count": null,
   "metadata": {},
   "outputs": [],
   "source": [
    "ipd.Audio(x_pred, rate=sr) # valid"
   ]
  },
  {
   "cell_type": "code",
   "execution_count": null,
   "metadata": {},
   "outputs": [],
   "source": [
    "ipd.Audio(x_pred, rate=sr) # train"
   ]
  },
  {
   "cell_type": "code",
   "execution_count": null,
   "metadata": {},
   "outputs": [],
   "source": [
    "ipd.Audio(x_noisy, rate=sr)"
   ]
  },
  {
   "cell_type": "code",
   "execution_count": null,
   "metadata": {},
   "outputs": [],
   "source": [
    "time_slice = slice(np.int(frag_win_length//2 - slice_width[0]/2), \n",
    "                     np.int(frag_win_length//2 + slice_width[0]/2)) \n",
    "t_start = time_slice.start\n",
    "\n",
    "## trimming\n",
    "s_pred_2 = s_pred[:, frag_win_length:-frag_win_length]\n",
    "s_noisy_2 = s_noisy[:, frag_win_length: s_pred_2.shape[1]+frag_win_length]\n",
    "s_2 = s[:, frag_win_length: s_pred_2.shape[1]+frag_win_length]\n",
    "\n",
    "snr = s_pred_2**2 / (s_noisy_2 - s_2)**2\n",
    "sdr =  s_2**2 / (s_2 - s_pred_2)**2\n",
    "print('snr :',np.mean(lr.power_to_db(np.abs(snr))))\n",
    "print('sdr :',np.mean(lr.power_to_db(np.abs(sdr))))"
   ]
  },
  {
   "cell_type": "code",
   "execution_count": null,
   "metadata": {},
   "outputs": [],
   "source": []
  },
  {
   "cell_type": "code",
   "execution_count": null,
   "metadata": {},
   "outputs": [],
   "source": []
  },
  {
   "cell_type": "code",
   "execution_count": null,
   "metadata": {},
   "outputs": [],
   "source": [
    "# time_slice_len = time_slices_len[2]\n",
    "# time_slice = slice(np.int(frag_win_length//2 - time_slice_len/2), \n",
    "#                      np.int(frag_win_length//2 + time_slice_len/2)) \n",
    "# i = time_slice.start"
   ]
  },
  {
   "cell_type": "code",
   "execution_count": null,
   "metadata": {},
   "outputs": [],
   "source": [
    "## trimming\n",
    "s_pred_2 = s_pred[:, frag_win_length:-frag_win_length]\n",
    "s_noisy_2 = s_noisy[:, frag_win_length: s_pred_2.shape[1]+frag_win_length]\n",
    "s_2 = s[:, frag_win_length: s_pred_2.shape[1]+frag_win_length]\n",
    "\n",
    "print(s_pred.shape, s_noisy.shape, s.shape)\n",
    "print(s_pred_2.shape, s_noisy_2.shape, s_2.shape)"
   ]
  },
  {
   "cell_type": "code",
   "execution_count": null,
   "metadata": {},
   "outputs": [],
   "source": [
    "## Evaluation \n",
    "\n",
    "## SNR\n",
    "snr = s_pred_2**2 / (s_noisy_2 - s_2)**2\n",
    "sdr =  s_2**2 / (s_2 - s_pred_2)**2 \n",
    "print('snr :',np.mean(lr.power_to_db(np.abs(snr))))\n",
    "print('sdr :',np.mean(lr.power_to_db(np.abs(sdr))))\n",
    "# snr.shape\n",
    "\n",
    "plt.figure(figsize=(18, 5)), \n",
    "plt.subplot(2,1,1)\n",
    "lrd.specshow(lr.power_to_db(np.abs(snr)), cmap='coolwarm')\n",
    "plt.suptitle('SNR')\n",
    "plt.colorbar()\n",
    "\n",
    "plt.subplot(2,1,2)\n",
    "lrd.specshow(lr.power_to_db(sdr), cmap='coolwarm')\n",
    "plt.suptitle('SDR')\n",
    "plt.colorbar()"
   ]
  },
  {
   "cell_type": "code",
   "execution_count": null,
   "metadata": {},
   "outputs": [],
   "source": []
  },
  {
   "cell_type": "code",
   "execution_count": null,
   "metadata": {},
   "outputs": [],
   "source": []
  },
  {
   "cell_type": "code",
   "execution_count": null,
   "metadata": {},
   "outputs": [],
   "source": [
    "plt.figure(figsize=(18, 5))\n",
    "plt.subplot(211)\n",
    "lrd.specshow(lr.amplitude_to_db(np.abs(s_noisy_2[:,:100])), vmin=-50, vmax=25, cmap='coolwarm') #[:,:100]\n",
    "\n",
    "plt.subplot(212)\n",
    "lrd.specshow(lr.amplitude_to_db(np.abs(s_pred_2[::-1,:100])), vmin=-50, vmax=25, cmap='coolwarm')\n",
    "plt.subplots_adjust(wspace=0, hspace=0)"
   ]
  },
  {
   "cell_type": "code",
   "execution_count": null,
   "metadata": {},
   "outputs": [],
   "source": [
    "# plt.figure(figsize=(18, 5))\n",
    "# plt.subplot(211)\n",
    "# lrd.specshow(lr.amplitude_to_db(np.abs(s_noisy[:,-(100):])), vmin=-50, vmax=25, cmap='coolwarm')\n",
    "\n",
    "# plt.subplot(212)\n",
    "# lrd.specshow(lr.amplitude_to_db(np.abs(s_pred[::-1,-100:])), vmin=-50, vmax=25, cmap='coolwarm')\n",
    "# plt.subplots_adjust(wspace=0, hspace=0)"
   ]
  },
  {
   "cell_type": "code",
   "execution_count": null,
   "metadata": {},
   "outputs": [],
   "source": [
    "print(s_pred.shape, s_noisy.shape)\n"
   ]
  },
  {
   "cell_type": "code",
   "execution_count": null,
   "metadata": {},
   "outputs": [],
   "source": [
    "ipd.Audio(x, rate=sr)"
   ]
  },
  {
   "cell_type": "code",
   "execution_count": null,
   "metadata": {},
   "outputs": [],
   "source": [
    "###############################"
   ]
  },
  {
   "cell_type": "code",
   "execution_count": null,
   "metadata": {},
   "outputs": [],
   "source": [
    "\n"
   ]
  },
  {
   "cell_type": "code",
   "execution_count": null,
   "metadata": {
    "scrolled": true
   },
   "outputs": [],
   "source": [
    "### PLOT RESULT AND LISTEN ###\n",
    "duration = 20\n",
    "offset = 2\n",
    "l = lr.time_to_frames(duration, sr=sr, n_fft=n_fft, hop_length=hop_length)\n",
    "o = lr.time_to_frames(offset, sr=sr, n_fft=n_fft, hop_length=hop_length)\n",
    "print(o,l)\n",
    "\n",
    "plt.figure(figsize=(18, 5))\n",
    "plt.suptitle('True and predicted spectrograms (de-normalized, {} seconds)'.format(duration))\n",
    "\n",
    "plt.subplot(211)\n",
    "lrd.specshow(lr.amplitude_to_db(np.abs(s[:,o:o+l])), vmin=-50, vmax=25, cmap='coolwarm')\n",
    "plt.colorbar()\n",
    "\n",
    "plt.subplot(212)\n",
    "lrd.specshow(lr.amplitude_to_db(np.abs(s_pred[:,o:o+l])), vmin=-50, vmax=25, cmap='coolwarm')\n",
    "plt.colorbar()"
   ]
  },
  {
   "cell_type": "code",
   "execution_count": null,
   "metadata": {},
   "outputs": [],
   "source": []
  }
 ],
 "metadata": {
  "kernelspec": {
   "display_name": "Python 3",
   "language": "python",
   "name": "python3"
  },
  "language_info": {
   "codemirror_mode": {
    "name": "ipython",
    "version": 3
   },
   "file_extension": ".py",
   "mimetype": "text/x-python",
   "name": "python",
   "nbconvert_exporter": "python",
   "pygments_lexer": "ipython3",
   "version": "3.6.6"
  }
 },
 "nbformat": 4,
 "nbformat_minor": 2
}
