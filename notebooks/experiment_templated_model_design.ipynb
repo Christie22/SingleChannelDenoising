{
 "cells": [
  {
   "cell_type": "code",
   "execution_count": 26,
   "metadata": {},
   "outputs": [],
   "source": [
    "# templating function\n",
    "def apply_template(str_data, *args, **kwargs):\n",
    "    str_data = str_data.format(*args, **kwargs)\n",
    "    print(str_data)\n",
    "    return str_data"
   ]
  },
  {
   "cell_type": "code",
   "execution_count": 27,
   "metadata": {},
   "outputs": [
    {
     "name": "stdout",
     "output_type": "stream",
     "text": [
      "hello\n"
     ]
    },
    {
     "data": {
      "text/plain": [
       "'hello'"
      ]
     },
     "execution_count": 27,
     "metadata": {},
     "output_type": "execute_result"
    }
   ],
   "source": [
    "# template same as output\n",
    "apply_template('hello')"
   ]
  },
  {
   "cell_type": "code",
   "execution_count": 28,
   "metadata": {},
   "outputs": [
    {
     "name": "stdout",
     "output_type": "stream",
     "text": [
      "hello world\n"
     ]
    },
    {
     "data": {
      "text/plain": [
       "'hello world'"
      ]
     },
     "execution_count": 28,
     "metadata": {},
     "output_type": "execute_result"
    }
   ],
   "source": [
    "# template with positional arguments (REALLY MESSY)\n",
    "apply_template('hello {}', 'world')"
   ]
  },
  {
   "cell_type": "code",
   "execution_count": 29,
   "metadata": {},
   "outputs": [
    {
     "name": "stdout",
     "output_type": "stream",
     "text": [
      "hello world\n"
     ]
    },
    {
     "data": {
      "text/plain": [
       "'hello world'"
      ]
     },
     "execution_count": 29,
     "metadata": {},
     "output_type": "execute_result"
    }
   ],
   "source": [
    "# template with named arguments\n",
    "apply_template('hello {place}', place='world')"
   ]
  },
  {
   "cell_type": "code",
   "execution_count": 30,
   "metadata": {},
   "outputs": [
    {
     "name": "stdout",
     "output_type": "stream",
     "text": [
      "hello al, john, and jack. my name is riccardo and i come from recanati\n"
     ]
    },
    {
     "data": {
      "text/plain": [
       "'hello al, john, and jack. my name is riccardo and i come from recanati'"
      ]
     },
     "execution_count": 30,
     "metadata": {},
     "output_type": "execute_result"
    }
   ],
   "source": [
    "# some more complex cases\n",
    "apply_template('hello {0}, {1}, and {2}. my name is {name} and i come from {place}', 'al', 'john', 'jack', name='riccardo', place='recanati')"
   ]
  },
  {
   "cell_type": "code",
   "execution_count": 34,
   "metadata": {},
   "outputs": [
    {
     "name": "stdout",
     "output_type": "stream",
     "text": [
      "[ { \"layer_type\": \"dense\", \"units\": 50 }, { \"layer_type\": \"conv\", \"filters\": 128 } ]\n",
      "{'layer_type': 'dense', 'units': 50}\n"
     ]
    }
   ],
   "source": [
    "# a relevant example\n",
    "# actual curlies need to be doubled, tho\n",
    "input_shape = (256, 16, 1)\n",
    "data = apply_template('[ {{ \"layer_type\": \"dense\", \"units\": {dense_units} }}, {{ \"layer_type\": \"conv\", \"filters\": {conv_filters} }} ]', dense_units=50, conv_filters=input_shape[0]//2)\n",
    "\n",
    "# convert to python data structure\n",
    "import json\n",
    "data = json.loads(data)\n",
    "\n",
    "# do whatevs with it!\n",
    "print(data[0])"
   ]
  },
  {
   "cell_type": "code",
   "execution_count": null,
   "metadata": {},
   "outputs": [],
   "source": []
  },
  {
   "cell_type": "code",
   "execution_count": null,
   "metadata": {},
   "outputs": [],
   "source": []
  }
 ],
 "metadata": {
  "kernelspec": {
   "display_name": "Python 3",
   "language": "python",
   "name": "python3"
  },
  "language_info": {
   "codemirror_mode": {
    "name": "ipython",
    "version": 3
   },
   "file_extension": ".py",
   "mimetype": "text/x-python",
   "name": "python",
   "nbconvert_exporter": "python",
   "pygments_lexer": "ipython3",
   "version": "3.6.8"
  }
 },
 "nbformat": 4,
 "nbformat_minor": 2
}
