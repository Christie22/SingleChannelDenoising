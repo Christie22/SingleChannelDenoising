{
 "cells": [
  {
   "cell_type": "code",
   "execution_count": null,
   "metadata": {},
   "outputs": [],
   "source": [
    "### NOTEBOOK FOR WRITING AND TESTING ENNOISING FROM FILE ###"
   ]
  },
  {
   "cell_type": "code",
   "execution_count": 1,
   "metadata": {},
   "outputs": [],
   "source": [
    "import librosa as lr\n",
    "import librosa.display as lrd\n",
    "import numpy as np\n",
    "import matplotlib.pyplot as plt\n",
    "import IPython.display as ipd\n",
    "%matplotlib inline\n",
    "\n",
    "conv_or_add = 'conv'\n",
    "SNR_dB = 10"
   ]
  },
  {
   "cell_type": "code",
   "execution_count": null,
   "metadata": {},
   "outputs": [],
   "source": [
    "### Facts\n",
    "# The noise is to be applied to the whole file of interest, \n",
    "# which will be cut into pieces afterwards and fed in a random order into the network\n",
    "# The noises last 5' at longest\n",
    "\n",
    "### Noising - Cases\n",
    "# (NO) The noise is longer than the file of interest: we can select a trimmed version of the noise by applying a random\n",
    "# offset and selecting !!! Never happens !!! (the files are 5' long at most)\n",
    "# (YES) The noise is shorter than the file of interest. Convolution is totally feasible, addition is trickier. \n",
    "\n",
    "### Problems?\n",
    "# Sections of noise "
   ]
  },
  {
   "cell_type": "code",
   "execution_count": null,
   "metadata": {},
   "outputs": [],
   "source": [
    "### File of interest\n",
    "x, sr = lr.load('/data/riccardo_datasets/npr_news/train/newscast230841.wav', sr=None, duration=10, offset=2)\n",
    "s = np.abs(lr.stft(x))"
   ]
  },
  {
   "cell_type": "code",
   "execution_count": null,
   "metadata": {},
   "outputs": [],
   "source": [
    "# Display time + frequency representations + audio\n",
    "plt.figure(figsize=(14, 8))\n",
    "plt.subplot(211)\n",
    "lrd.waveplot(x, sr=sr)\n",
    "plt.subplot(212)\n",
    "lrd.specshow(lr.amplitude_to_db(s))\n",
    "\n",
    "ipd.Audio(x, rate=sr)"
   ]
  },
  {
   "cell_type": "code",
   "execution_count": null,
   "metadata": {},
   "outputs": [],
   "source": [
    "### File taken as Noise\n",
    "xn, srn = lr.load('/data/riccardo_datasets/demand-noisy_environment-dataset/DWASHING/ch01.wav', sr=None)\n",
    "sn = np.abs(lr.stft(xn))\n",
    "\n",
    "# Display time + frequency representations + audio\n",
    "plt.figure(figsize=(14, 8))\n",
    "plt.subplot(211)\n",
    "lrd.specshow(lr.amplitude_to_db(sn))\n",
    "plt.subplot(212)\n",
    "lrd.waveplot(xn, sr=srn)\n",
    "ipd.Audio(xn, rate=srn)\n"
   ]
  },
  {
   "cell_type": "code",
   "execution_count": null,
   "metadata": {},
   "outputs": [],
   "source": [
    "### Noise params + scaling\n",
    "snr = 10.0**(SNR_dB/10.0)\n",
    "\n",
    "# calculate scaling factor for noise\n",
    "x_rms = x.std()\n",
    "xn_rms = xn.std()\n",
    "scaling = x_rms / (snr * xn_rms)\n",
    "print(x_rms, xn_rms, scaling)\n",
    "noise = (xn * scaling)\n",
    "\n",
    "# sum scaled signals\n",
    "if conv_or_add == 'add':\n",
    "    noisyx = x + noise\n",
    "else:\n",
    "    noisyx = np.convolve(x, noise)\n",
    "\n",
    "s_noisyx = np.abs(lr.stft(noisyx))"
   ]
  },
  {
   "cell_type": "code",
   "execution_count": null,
   "metadata": {},
   "outputs": [],
   "source": [
    "plt.figure(figsize=(14, 5))\n",
    "plt.subplot(211)\n",
    "lrd.specshow(lr.amplitude_to_db(s_noisyx))\n",
    "plt.subplot(212)\n",
    "lrd.waveplot(noisyx, sr=sr)\n",
    "ipd.Audio(noisyx, rate=sr)"
   ]
  }
 ],
 "metadata": {
  "kernelspec": {
   "display_name": "Python 3",
   "language": "python",
   "name": "python3"
  },
  "language_info": {
   "codemirror_mode": {
    "name": "ipython",
    "version": 3
   },
   "file_extension": ".py",
   "mimetype": "text/x-python",
   "name": "python",
   "nbconvert_exporter": "python",
   "pygments_lexer": "ipython3",
   "version": "3.6.8"
  }
 },
 "nbformat": 4,
 "nbformat_minor": 2
}
