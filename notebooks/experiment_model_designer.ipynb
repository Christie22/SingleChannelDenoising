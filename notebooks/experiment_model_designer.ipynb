{
 "cells": [
  {
   "cell_type": "code",
   "execution_count": 1,
   "metadata": {},
   "outputs": [
    {
     "name": "stderr",
     "output_type": "stream",
     "text": [
      "Using TensorFlow backend.\n",
      "/home/christie/miniconda3/envs/denoising/lib/python3.6/importlib/_bootstrap.py:219: RuntimeWarning: compiletime version 3.5 of module 'tensorflow.python.framework.fast_tensor_util' does not match runtime version 3.6\n",
      "  return f(*args, **kwds)\n"
     ]
    },
    {
     "data": {
      "text/plain": [
       "'/home/christie/SingleChannelDenoising_source/notebooks'"
      ]
     },
     "execution_count": 1,
     "metadata": {},
     "output_type": "execute_result"
    }
   ],
   "source": [
    "import sys\n",
    "sys.path.append('..')\n",
    "\n",
    "import os\n",
    "import os.path as osp\n",
    "import time\n",
    "import pickle\n",
    "import numpy as np\n",
    "import pandas as pd\n",
    "from keras import backend as K\n",
    "from keras.callbacks import EarlyStopping, ModelCheckpoint, TerminateOnNaN, TensorBoard\n",
    "from sklearn.model_selection import train_test_split\n",
    "\n",
    "# custom modules\n",
    "from libs.utilities import load_dataset, create_autoencoder_model, load_autoencoder_model, load_autoencoder_lossfunc\n",
    "from libs.model_utils import LossLayer\n",
    "from libs.data_generator import DataGenerator\n",
    "from libs.processing import pink_noise, s_to_power\n",
    "\n",
    "os.getcwd()"
   ]
  },
  {
   "cell_type": "code",
   "execution_count": 2,
   "metadata": {},
   "outputs": [
    {
     "data": {
      "text/plain": [
       "'/home/christie/SingleChannelDenoising_source/models'"
      ]
     },
     "execution_count": 2,
     "metadata": {},
     "output_type": "execute_result"
    }
   ],
   "source": [
    "#### PARAMETERS ####\n",
    "\n",
    "model_source = '../models/lstm0.json'#'../models/lstm0.json', ddae\n",
    "os.path.dirname(os.path.abspath(model_source))"
   ]
  },
  {
   "cell_type": "code",
   "execution_count": 3,
   "metadata": {},
   "outputs": [],
   "source": [
    "#### OTHER VARS ####\n",
    "# loss function: data slice under consideration\n",
    "time_slice = slice(None)\n",
    "initial_epoch = 0\n",
    "input_shape = (256, 16, 1)\n"
   ]
  },
  {
   "cell_type": "code",
   "execution_count": 4,
   "metadata": {},
   "outputs": [
    {
     "name": "stdout",
     "output_type": "stream",
     "text": [
      "{'_meta': {'descr': 'just a try', 'source': 'just a try'},\n",
      " 'architecture': [{'layer_args': {'dims': [2, 1]}, 'layer_type': 'permute'},\n",
      "                  {'layer_args': {'target_shape': -1}, 'layer_type': 'reshape'},\n",
      "                  {'layer_args': {'units': 2048}, 'layer_type': 'lstm'},\n",
      "                  {'layer_args': {'units': 2048}, 'layer_type': 'dense'}]}\n"
     ]
    }
   ],
   "source": [
    "### SHOW MODEL FILE ###\n",
    "import json\n",
    "import pprint \n",
    "\n",
    "pprint.pprint(json.load(open(model_source)))"
   ]
  },
  {
   "cell_type": "code",
   "execution_count": 5,
   "metadata": {},
   "outputs": [
    {
     "name": "stdout",
     "output_type": "stream",
     "text": [
      "[u] Creating autoencoder model from ../models/lstm0.json\n"
     ]
    },
    {
     "ename": "IndentationError",
     "evalue": "unexpected indent (model_example_design.py, line 5)",
     "output_type": "error",
     "traceback": [
      "Traceback \u001b[0;36m(most recent call last)\u001b[0m:\n",
      "  File \u001b[1;32m\"/home/christie/miniconda3/envs/denoising/lib/python3.6/site-packages/IPython/core/interactiveshell.py\"\u001b[0m, line \u001b[1;32m3267\u001b[0m, in \u001b[1;35mrun_code\u001b[0m\n    exec(code_obj, self.user_global_ns, self.user_ns)\n",
      "  File \u001b[1;32m\"<ipython-input-5-f21c25e7ae9c>\"\u001b[0m, line \u001b[1;32m4\u001b[0m, in \u001b[1;35m<module>\u001b[0m\n    model_source, input_shape, time_slice=time_slice)\n",
      "\u001b[0;36m  File \u001b[0;32m\"../libs/utilities.py\"\u001b[0;36m, line \u001b[0;32m35\u001b[0;36m, in \u001b[0;35mcreate_autoencoder_model\u001b[0;36m\u001b[0m\n\u001b[0;31m    from models.model_example_design import AEModelFactory\u001b[0m\n",
      "\u001b[0;36m  File \u001b[0;32m\"../models/model_example_design.py\"\u001b[0;36m, line \u001b[0;32m5\u001b[0m\n\u001b[0;31m    Conv2D, Conv2DTranspose, \\\u001b[0m\n\u001b[0m    ^\u001b[0m\n\u001b[0;31mIndentationError\u001b[0m\u001b[0;31m:\u001b[0m unexpected indent\n"
     ]
    }
   ],
   "source": [
    "### TRY AND GENERATE MODEL ###\n",
    "# NOTE: restart the kernel and rerun everything after editing an imported script or lib\n",
    "model, lossfunc = create_autoencoder_model(\n",
    "    model_source, input_shape, time_slice=time_slice)"
   ]
  },
  {
   "cell_type": "code",
   "execution_count": 6,
   "metadata": {},
   "outputs": [
    {
     "name": "stdout",
     "output_type": "stream",
     "text": [
      "_________________________________________________________________\n",
      "Layer (type)                 Output Shape              Param #   \n",
      "=================================================================\n",
      "input_1 (InputLayer)         (None, 256, 16, 1)        0         \n",
      "_________________________________________________________________\n",
      "dense_1 (Dense)              (None, 256, 16, 2048)     4096      \n",
      "_________________________________________________________________\n",
      "elu_1 (ELU)                  (None, 256, 16, 2048)     0         \n",
      "_________________________________________________________________\n",
      "dropout_1 (Dropout)          (None, 256, 16, 2048)     0         \n",
      "_________________________________________________________________\n",
      "dense_2 (Dense)              (None, 256, 16, 2048)     4196352   \n",
      "_________________________________________________________________\n",
      "elu_2 (ELU)                  (None, 256, 16, 2048)     0         \n",
      "_________________________________________________________________\n",
      "dropout_2 (Dropout)          (None, 256, 16, 2048)     0         \n",
      "_________________________________________________________________\n",
      "dense_3 (Dense)              (None, 256, 16, 2048)     4196352   \n",
      "_________________________________________________________________\n",
      "elu_3 (ELU)                  (None, 256, 16, 2048)     0         \n",
      "_________________________________________________________________\n",
      "dropout_3 (Dropout)          (None, 256, 16, 2048)     0         \n",
      "_________________________________________________________________\n",
      "dense_4 (Dense)              (None, 256, 16, 2048)     4196352   \n",
      "_________________________________________________________________\n",
      "elu_4 (ELU)                  (None, 256, 16, 2048)     0         \n",
      "_________________________________________________________________\n",
      "dropout_4 (Dropout)          (None, 256, 16, 2048)     0         \n",
      "_________________________________________________________________\n",
      "dense_5 (Dense)              (None, 256, 16, 2048)     4196352   \n",
      "_________________________________________________________________\n",
      "elu_5 (ELU)                  (None, 256, 16, 2048)     0         \n",
      "_________________________________________________________________\n",
      "dropout_5 (Dropout)          (None, 256, 16, 2048)     0         \n",
      "_________________________________________________________________\n",
      "dense_6 (Dense)              (None, 256, 16, 257)      526593    \n",
      "=================================================================\n",
      "Total params: 17,316,097\n",
      "Trainable params: 17,316,097\n",
      "Non-trainable params: 0\n",
      "_________________________________________________________________\n"
     ]
    }
   ],
   "source": [
    "### VERIFY GENERATED MODEL ###\n",
    "model.summary()\n"
   ]
  },
  {
   "cell_type": "code",
   "execution_count": null,
   "metadata": {},
   "outputs": [],
   "source": []
  },
  {
   "cell_type": "code",
   "execution_count": null,
   "metadata": {},
   "outputs": [],
   "source": []
  },
  {
   "cell_type": "markdown",
   "metadata": {},
   "source": [
    "_____\n",
    "# Can we use the built-in Keras Model exporters (dict, yaml, json)?"
   ]
  },
  {
   "cell_type": "code",
   "execution_count": 18,
   "metadata": {},
   "outputs": [],
   "source": [
    "### TEST KERAS BUILTIN JSON IMPORT/EXPORT\n",
    "from models.model_example import AEModelFactory\n",
    "obj = AEModelFactory(input_shape, 3, 16)\n",
    "model2 = obj.get_model()"
   ]
  },
  {
   "cell_type": "code",
   "execution_count": 19,
   "metadata": {},
   "outputs": [
    {
     "name": "stdout",
     "output_type": "stream",
     "text": [
      "_________________________________________________________________\n",
      "Layer (type)                 Output Shape              Param #   \n",
      "=================================================================\n",
      "input_6 (InputLayer)         (None, 256, 16, 1)        0         \n",
      "_________________________________________________________________\n",
      "conv2d_9 (Conv2D)            (None, 128, 8, 4)         40        \n",
      "_________________________________________________________________\n",
      "batch_normalization_23 (Batc (None, 128, 8, 4)         16        \n",
      "_________________________________________________________________\n",
      "conv2d_10 (Conv2D)           (None, 64, 4, 8)          296       \n",
      "_________________________________________________________________\n",
      "batch_normalization_24 (Batc (None, 64, 4, 8)          32        \n",
      "_________________________________________________________________\n",
      "conv2d_11 (Conv2D)           (None, 32, 2, 16)         1168      \n",
      "_________________________________________________________________\n",
      "batch_normalization_25 (Batc (None, 32, 2, 16)         64        \n",
      "_________________________________________________________________\n",
      "conv2d_12 (Conv2D)           (None, 16, 1, 16)         2320      \n",
      "_________________________________________________________________\n",
      "batch_normalization_26 (Batc (None, 16, 1, 16)         64        \n",
      "_________________________________________________________________\n",
      "flatten_3 (Flatten)          (None, 256)               0         \n",
      "_________________________________________________________________\n",
      "dense_9 (Dense)              (None, 1024)              263168    \n",
      "_________________________________________________________________\n",
      "dropout_5 (Dropout)          (None, 1024)              0         \n",
      "_________________________________________________________________\n",
      "dense_10 (Dense)             (None, 128)               131200    \n",
      "=================================================================\n",
      "Total params: 398,368\n",
      "Trainable params: 398,280\n",
      "Non-trainable params: 88\n",
      "_________________________________________________________________\n",
      "_________________________________________________________________\n",
      "Layer (type)                 Output Shape              Param #   \n",
      "=================================================================\n",
      "input_7 (InputLayer)         (None, 128)               0         \n",
      "_________________________________________________________________\n",
      "dense_12 (Dense)             (None, 256)               33024     \n",
      "_________________________________________________________________\n",
      "dropout_6 (Dropout)          (None, 256)               0         \n",
      "_________________________________________________________________\n",
      "batch_normalization_28 (Batc (None, 256)               1024      \n",
      "_________________________________________________________________\n",
      "reshape_3 (Reshape)          (None, 16, 1, 16)         0         \n",
      "_________________________________________________________________\n",
      "batch_normalization_29 (Batc (None, 16, 1, 16)         64        \n",
      "_________________________________________________________________\n",
      "conv2d_transpose_11 (Conv2DT (None, 32, 2, 16)         2320      \n",
      "_________________________________________________________________\n",
      "batch_normalization_30 (Batc (None, 32, 2, 16)         64        \n",
      "_________________________________________________________________\n",
      "conv2d_transpose_12 (Conv2DT (None, 64, 4, 16)         2320      \n",
      "_________________________________________________________________\n",
      "batch_normalization_31 (Batc (None, 64, 4, 16)         64        \n",
      "_________________________________________________________________\n",
      "conv2d_transpose_13 (Conv2DT (None, 128, 8, 8)         1160      \n",
      "_________________________________________________________________\n",
      "batch_normalization_32 (Batc (None, 128, 8, 8)         32        \n",
      "_________________________________________________________________\n",
      "conv2d_transpose_14 (Conv2DT (None, 256, 16, 4)        36        \n",
      "_________________________________________________________________\n",
      "batch_normalization_33 (Batc (None, 256, 16, 4)        16        \n",
      "_________________________________________________________________\n",
      "conv2d_transpose_15 (Conv2DT (None, 256, 16, 1)        5         \n",
      "=================================================================\n",
      "Total params: 40,129\n",
      "Trainable params: 39,497\n",
      "Non-trainable params: 632\n",
      "_________________________________________________________________\n",
      "_________________________________________________________________\n",
      "Layer (type)                 Output Shape              Param #   \n",
      "=================================================================\n",
      "input (InputLayer)           (None, 256, 16, 1)        0         \n",
      "_________________________________________________________________\n",
      "encoder (Model)              (None, 128)               398368    \n",
      "_________________________________________________________________\n",
      "decoder (Model)              (None, 256, 16, 1)        40129     \n",
      "=================================================================\n",
      "Total params: 438,497\n",
      "Trainable params: 437,777\n",
      "Non-trainable params: 720\n",
      "_________________________________________________________________\n"
     ]
    }
   ],
   "source": [
    "model2.get_layer('encoder').summary()\n",
    "model2.get_layer('decoder').summary()\n",
    "model2.summary()\n"
   ]
  },
  {
   "cell_type": "code",
   "execution_count": 17,
   "metadata": {},
   "outputs": [
    {
     "name": "stdout",
     "output_type": "stream",
     "text": [
      "{'name': 'model_6', 'layers': [{'name': 'input', 'class_name': 'InputLayer', 'config': {'batch_input_shape': (None, 256, 16, 1), 'dtype': 'float32', 'sparse': False, 'name': 'input'}, 'inbound_nodes': []}, {'name': 'encoder', 'class_name': 'Model', 'config': {'name': 'encoder', 'layers': [{'name': 'input_4', 'class_name': 'InputLayer', 'config': {'batch_input_shape': (None, 256, 16, 1), 'dtype': 'float32', 'sparse': False, 'name': 'input_4'}, 'inbound_nodes': []}, {'name': 'conv2d_5', 'class_name': 'Conv2D', 'config': {'name': 'conv2d_5', 'trainable': True, 'filters': 4, 'kernel_size': (3, 3), 'strides': (2, 2), 'padding': 'same', 'data_format': 'channels_last', 'dilation_rate': (1, 1), 'activation': 'relu', 'use_bias': True, 'kernel_initializer': {'class_name': 'VarianceScaling', 'config': {'scale': 1.0, 'mode': 'fan_avg', 'distribution': 'uniform', 'seed': None}}, 'bias_initializer': {'class_name': 'Zeros', 'config': {}}, 'kernel_regularizer': None, 'bias_regularizer': None, 'activity_regularizer': None, 'kernel_constraint': None, 'bias_constraint': None}, 'inbound_nodes': [[['input_4', 0, 0, {}]]]}, {'name': 'batch_normalization_12', 'class_name': 'BatchNormalization', 'config': {'name': 'batch_normalization_12', 'trainable': True, 'axis': -1, 'momentum': 0.99, 'epsilon': 0.001, 'center': True, 'scale': True, 'beta_initializer': {'class_name': 'Zeros', 'config': {}}, 'gamma_initializer': {'class_name': 'Ones', 'config': {}}, 'moving_mean_initializer': {'class_name': 'Zeros', 'config': {}}, 'moving_variance_initializer': {'class_name': 'Ones', 'config': {}}, 'beta_regularizer': None, 'gamma_regularizer': None, 'beta_constraint': None, 'gamma_constraint': None}, 'inbound_nodes': [[['conv2d_5', 0, 0, {}]]]}, {'name': 'conv2d_6', 'class_name': 'Conv2D', 'config': {'name': 'conv2d_6', 'trainable': True, 'filters': 8, 'kernel_size': (3, 3), 'strides': (2, 2), 'padding': 'same', 'data_format': 'channels_last', 'dilation_rate': (1, 1), 'activation': 'relu', 'use_bias': True, 'kernel_initializer': {'class_name': 'VarianceScaling', 'config': {'scale': 1.0, 'mode': 'fan_avg', 'distribution': 'uniform', 'seed': None}}, 'bias_initializer': {'class_name': 'Zeros', 'config': {}}, 'kernel_regularizer': None, 'bias_regularizer': None, 'activity_regularizer': None, 'kernel_constraint': None, 'bias_constraint': None}, 'inbound_nodes': [[['batch_normalization_12', 0, 0, {}]]]}, {'name': 'batch_normalization_13', 'class_name': 'BatchNormalization', 'config': {'name': 'batch_normalization_13', 'trainable': True, 'axis': -1, 'momentum': 0.99, 'epsilon': 0.001, 'center': True, 'scale': True, 'beta_initializer': {'class_name': 'Zeros', 'config': {}}, 'gamma_initializer': {'class_name': 'Ones', 'config': {}}, 'moving_mean_initializer': {'class_name': 'Zeros', 'config': {}}, 'moving_variance_initializer': {'class_name': 'Ones', 'config': {}}, 'beta_regularizer': None, 'gamma_regularizer': None, 'beta_constraint': None, 'gamma_constraint': None}, 'inbound_nodes': [[['conv2d_6', 0, 0, {}]]]}, {'name': 'conv2d_7', 'class_name': 'Conv2D', 'config': {'name': 'conv2d_7', 'trainable': True, 'filters': 16, 'kernel_size': (3, 3), 'strides': (2, 2), 'padding': 'same', 'data_format': 'channels_last', 'dilation_rate': (1, 1), 'activation': 'relu', 'use_bias': True, 'kernel_initializer': {'class_name': 'VarianceScaling', 'config': {'scale': 1.0, 'mode': 'fan_avg', 'distribution': 'uniform', 'seed': None}}, 'bias_initializer': {'class_name': 'Zeros', 'config': {}}, 'kernel_regularizer': None, 'bias_regularizer': None, 'activity_regularizer': None, 'kernel_constraint': None, 'bias_constraint': None}, 'inbound_nodes': [[['batch_normalization_13', 0, 0, {}]]]}, {'name': 'batch_normalization_14', 'class_name': 'BatchNormalization', 'config': {'name': 'batch_normalization_14', 'trainable': True, 'axis': -1, 'momentum': 0.99, 'epsilon': 0.001, 'center': True, 'scale': True, 'beta_initializer': {'class_name': 'Zeros', 'config': {}}, 'gamma_initializer': {'class_name': 'Ones', 'config': {}}, 'moving_mean_initializer': {'class_name': 'Zeros', 'config': {}}, 'moving_variance_initializer': {'class_name': 'Ones', 'config': {}}, 'beta_regularizer': None, 'gamma_regularizer': None, 'beta_constraint': None, 'gamma_constraint': None}, 'inbound_nodes': [[['conv2d_7', 0, 0, {}]]]}, {'name': 'conv2d_8', 'class_name': 'Conv2D', 'config': {'name': 'conv2d_8', 'trainable': True, 'filters': 16, 'kernel_size': (3, 3), 'strides': (2, 2), 'padding': 'same', 'data_format': 'channels_last', 'dilation_rate': (1, 1), 'activation': 'linear', 'use_bias': True, 'kernel_initializer': {'class_name': 'VarianceScaling', 'config': {'scale': 1.0, 'mode': 'fan_avg', 'distribution': 'uniform', 'seed': None}}, 'bias_initializer': {'class_name': 'Zeros', 'config': {}}, 'kernel_regularizer': None, 'bias_regularizer': None, 'activity_regularizer': None, 'kernel_constraint': None, 'bias_constraint': None}, 'inbound_nodes': [[['batch_normalization_14', 0, 0, {}]]]}, {'name': 'batch_normalization_15', 'class_name': 'BatchNormalization', 'config': {'name': 'batch_normalization_15', 'trainable': True, 'axis': -1, 'momentum': 0.99, 'epsilon': 0.001, 'center': True, 'scale': True, 'beta_initializer': {'class_name': 'Zeros', 'config': {}}, 'gamma_initializer': {'class_name': 'Ones', 'config': {}}, 'moving_mean_initializer': {'class_name': 'Zeros', 'config': {}}, 'moving_variance_initializer': {'class_name': 'Ones', 'config': {}}, 'beta_regularizer': None, 'gamma_regularizer': None, 'beta_constraint': None, 'gamma_constraint': None}, 'inbound_nodes': [[['conv2d_8', 0, 0, {}]]]}, {'name': 'flatten_2', 'class_name': 'Flatten', 'config': {'name': 'flatten_2', 'trainable': True, 'data_format': 'channels_last'}, 'inbound_nodes': [[['batch_normalization_15', 0, 0, {}]]]}, {'name': 'dense_5', 'class_name': 'Dense', 'config': {'name': 'dense_5', 'trainable': True, 'units': 1024, 'activation': 'relu', 'use_bias': True, 'kernel_initializer': {'class_name': 'VarianceScaling', 'config': {'scale': 1.0, 'mode': 'fan_avg', 'distribution': 'uniform', 'seed': None}}, 'bias_initializer': {'class_name': 'Zeros', 'config': {}}, 'kernel_regularizer': None, 'bias_regularizer': None, 'activity_regularizer': None, 'kernel_constraint': None, 'bias_constraint': None}, 'inbound_nodes': [[['flatten_2', 0, 0, {}]]]}, {'name': 'dropout_3', 'class_name': 'Dropout', 'config': {'name': 'dropout_3', 'trainable': True, 'rate': 0.4, 'noise_shape': None, 'seed': None}, 'inbound_nodes': [[['dense_5', 0, 0, {}]]]}, {'name': 'dense_6', 'class_name': 'Dense', 'config': {'name': 'dense_6', 'trainable': True, 'units': 128, 'activation': 'relu', 'use_bias': True, 'kernel_initializer': {'class_name': 'VarianceScaling', 'config': {'scale': 1.0, 'mode': 'fan_avg', 'distribution': 'uniform', 'seed': None}}, 'bias_initializer': {'class_name': 'Zeros', 'config': {}}, 'kernel_regularizer': None, 'bias_regularizer': None, 'activity_regularizer': None, 'kernel_constraint': None, 'bias_constraint': None}, 'inbound_nodes': [[['dropout_3', 0, 0, {}]]]}], 'input_layers': [['input_4', 0, 0]], 'output_layers': [['dense_6', 0, 0]]}, 'inbound_nodes': [[['input', 0, 0, {}]]]}, {'name': 'decoder', 'class_name': 'Model', 'config': {'name': 'decoder', 'layers': [{'name': 'input_5', 'class_name': 'InputLayer', 'config': {'batch_input_shape': (None, 128), 'dtype': 'float32', 'sparse': False, 'name': 'input_5'}, 'inbound_nodes': []}, {'name': 'dense_8', 'class_name': 'Dense', 'config': {'name': 'dense_8', 'trainable': True, 'units': 256, 'activation': 'relu', 'use_bias': True, 'kernel_initializer': {'class_name': 'VarianceScaling', 'config': {'scale': 1.0, 'mode': 'fan_avg', 'distribution': 'uniform', 'seed': None}}, 'bias_initializer': {'class_name': 'Zeros', 'config': {}}, 'kernel_regularizer': None, 'bias_regularizer': None, 'activity_regularizer': None, 'kernel_constraint': None, 'bias_constraint': None}, 'inbound_nodes': [[['input_5', 0, 0, {}]]]}, {'name': 'dropout_4', 'class_name': 'Dropout', 'config': {'name': 'dropout_4', 'trainable': True, 'rate': 0.4, 'noise_shape': None, 'seed': None}, 'inbound_nodes': [[['dense_8', 0, 0, {}]]]}, {'name': 'batch_normalization_17', 'class_name': 'BatchNormalization', 'config': {'name': 'batch_normalization_17', 'trainable': True, 'axis': -1, 'momentum': 0.99, 'epsilon': 0.001, 'center': True, 'scale': True, 'beta_initializer': {'class_name': 'Zeros', 'config': {}}, 'gamma_initializer': {'class_name': 'Ones', 'config': {}}, 'moving_mean_initializer': {'class_name': 'Zeros', 'config': {}}, 'moving_variance_initializer': {'class_name': 'Ones', 'config': {}}, 'beta_regularizer': None, 'gamma_regularizer': None, 'beta_constraint': None, 'gamma_constraint': None}, 'inbound_nodes': [[['dropout_4', 0, 0, {}]]]}, {'name': 'reshape_2', 'class_name': 'Reshape', 'config': {'name': 'reshape_2', 'trainable': True, 'target_shape': (16, 1, 16)}, 'inbound_nodes': [[['batch_normalization_17', 0, 0, {}]]]}, {'name': 'batch_normalization_18', 'class_name': 'BatchNormalization', 'config': {'name': 'batch_normalization_18', 'trainable': True, 'axis': -1, 'momentum': 0.99, 'epsilon': 0.001, 'center': True, 'scale': True, 'beta_initializer': {'class_name': 'Zeros', 'config': {}}, 'gamma_initializer': {'class_name': 'Ones', 'config': {}}, 'moving_mean_initializer': {'class_name': 'Zeros', 'config': {}}, 'moving_variance_initializer': {'class_name': 'Ones', 'config': {}}, 'beta_regularizer': None, 'gamma_regularizer': None, 'beta_constraint': None, 'gamma_constraint': None}, 'inbound_nodes': [[['reshape_2', 0, 0, {}]]]}, {'name': 'conv2d_transpose_6', 'class_name': 'Conv2DTranspose', 'config': {'name': 'conv2d_transpose_6', 'trainable': True, 'filters': 16, 'kernel_size': (3, 3), 'strides': (2, 2), 'padding': 'same', 'data_format': 'channels_last', 'dilation_rate': (1, 1), 'activation': 'relu', 'use_bias': True, 'kernel_initializer': {'class_name': 'VarianceScaling', 'config': {'scale': 1.0, 'mode': 'fan_avg', 'distribution': 'uniform', 'seed': None}}, 'bias_initializer': {'class_name': 'Zeros', 'config': {}}, 'kernel_regularizer': None, 'bias_regularizer': None, 'activity_regularizer': None, 'kernel_constraint': None, 'bias_constraint': None, 'output_padding': None}, 'inbound_nodes': [[['batch_normalization_18', 0, 0, {}]]]}, {'name': 'batch_normalization_19', 'class_name': 'BatchNormalization', 'config': {'name': 'batch_normalization_19', 'trainable': True, 'axis': -1, 'momentum': 0.99, 'epsilon': 0.001, 'center': True, 'scale': True, 'beta_initializer': {'class_name': 'Zeros', 'config': {}}, 'gamma_initializer': {'class_name': 'Ones', 'config': {}}, 'moving_mean_initializer': {'class_name': 'Zeros', 'config': {}}, 'moving_variance_initializer': {'class_name': 'Ones', 'config': {}}, 'beta_regularizer': None, 'gamma_regularizer': None, 'beta_constraint': None, 'gamma_constraint': None}, 'inbound_nodes': [[['conv2d_transpose_6', 0, 0, {}]]]}, {'name': 'conv2d_transpose_7', 'class_name': 'Conv2DTranspose', 'config': {'name': 'conv2d_transpose_7', 'trainable': True, 'filters': 16, 'kernel_size': (3, 3), 'strides': (2, 2), 'padding': 'same', 'data_format': 'channels_last', 'dilation_rate': (1, 1), 'activation': 'relu', 'use_bias': True, 'kernel_initializer': {'class_name': 'VarianceScaling', 'config': {'scale': 1.0, 'mode': 'fan_avg', 'distribution': 'uniform', 'seed': None}}, 'bias_initializer': {'class_name': 'Zeros', 'config': {}}, 'kernel_regularizer': None, 'bias_regularizer': None, 'activity_regularizer': None, 'kernel_constraint': None, 'bias_constraint': None, 'output_padding': None}, 'inbound_nodes': [[['batch_normalization_19', 0, 0, {}]]]}, {'name': 'batch_normalization_20', 'class_name': 'BatchNormalization', 'config': {'name': 'batch_normalization_20', 'trainable': True, 'axis': -1, 'momentum': 0.99, 'epsilon': 0.001, 'center': True, 'scale': True, 'beta_initializer': {'class_name': 'Zeros', 'config': {}}, 'gamma_initializer': {'class_name': 'Ones', 'config': {}}, 'moving_mean_initializer': {'class_name': 'Zeros', 'config': {}}, 'moving_variance_initializer': {'class_name': 'Ones', 'config': {}}, 'beta_regularizer': None, 'gamma_regularizer': None, 'beta_constraint': None, 'gamma_constraint': None}, 'inbound_nodes': [[['conv2d_transpose_7', 0, 0, {}]]]}, {'name': 'conv2d_transpose_8', 'class_name': 'Conv2DTranspose', 'config': {'name': 'conv2d_transpose_8', 'trainable': True, 'filters': 8, 'kernel_size': (3, 3), 'strides': (2, 2), 'padding': 'same', 'data_format': 'channels_last', 'dilation_rate': (1, 1), 'activation': 'relu', 'use_bias': True, 'kernel_initializer': {'class_name': 'VarianceScaling', 'config': {'scale': 1.0, 'mode': 'fan_avg', 'distribution': 'uniform', 'seed': None}}, 'bias_initializer': {'class_name': 'Zeros', 'config': {}}, 'kernel_regularizer': None, 'bias_regularizer': None, 'activity_regularizer': None, 'kernel_constraint': None, 'bias_constraint': None, 'output_padding': None}, 'inbound_nodes': [[['batch_normalization_20', 0, 0, {}]]]}, {'name': 'batch_normalization_21', 'class_name': 'BatchNormalization', 'config': {'name': 'batch_normalization_21', 'trainable': True, 'axis': -1, 'momentum': 0.99, 'epsilon': 0.001, 'center': True, 'scale': True, 'beta_initializer': {'class_name': 'Zeros', 'config': {}}, 'gamma_initializer': {'class_name': 'Ones', 'config': {}}, 'moving_mean_initializer': {'class_name': 'Zeros', 'config': {}}, 'moving_variance_initializer': {'class_name': 'Ones', 'config': {}}, 'beta_regularizer': None, 'gamma_regularizer': None, 'beta_constraint': None, 'gamma_constraint': None}, 'inbound_nodes': [[['conv2d_transpose_8', 0, 0, {}]]]}, {'name': 'conv2d_transpose_9', 'class_name': 'Conv2DTranspose', 'config': {'name': 'conv2d_transpose_9', 'trainable': True, 'filters': 4, 'kernel_size': (1, 1), 'strides': (2, 2), 'padding': 'same', 'data_format': 'channels_last', 'dilation_rate': (1, 1), 'activation': 'relu', 'use_bias': True, 'kernel_initializer': {'class_name': 'VarianceScaling', 'config': {'scale': 1.0, 'mode': 'fan_avg', 'distribution': 'uniform', 'seed': None}}, 'bias_initializer': {'class_name': 'Zeros', 'config': {}}, 'kernel_regularizer': None, 'bias_regularizer': None, 'activity_regularizer': None, 'kernel_constraint': None, 'bias_constraint': None, 'output_padding': None}, 'inbound_nodes': [[['batch_normalization_21', 0, 0, {}]]]}, {'name': 'batch_normalization_22', 'class_name': 'BatchNormalization', 'config': {'name': 'batch_normalization_22', 'trainable': True, 'axis': -1, 'momentum': 0.99, 'epsilon': 0.001, 'center': True, 'scale': True, 'beta_initializer': {'class_name': 'Zeros', 'config': {}}, 'gamma_initializer': {'class_name': 'Ones', 'config': {}}, 'moving_mean_initializer': {'class_name': 'Zeros', 'config': {}}, 'moving_variance_initializer': {'class_name': 'Ones', 'config': {}}, 'beta_regularizer': None, 'gamma_regularizer': None, 'beta_constraint': None, 'gamma_constraint': None}, 'inbound_nodes': [[['conv2d_transpose_9', 0, 0, {}]]]}, {'name': 'conv2d_transpose_10', 'class_name': 'Conv2DTranspose', 'config': {'name': 'conv2d_transpose_10', 'trainable': True, 'filters': 1, 'kernel_size': (1, 1), 'strides': (1, 1), 'padding': 'same', 'data_format': 'channels_last', 'dilation_rate': (1, 1), 'activation': 'relu', 'use_bias': True, 'kernel_initializer': {'class_name': 'VarianceScaling', 'config': {'scale': 1.0, 'mode': 'fan_avg', 'distribution': 'uniform', 'seed': None}}, 'bias_initializer': {'class_name': 'Zeros', 'config': {}}, 'kernel_regularizer': None, 'bias_regularizer': None, 'activity_regularizer': None, 'kernel_constraint': None, 'bias_constraint': None, 'output_padding': None}, 'inbound_nodes': [[['batch_normalization_22', 0, 0, {}]]]}], 'input_layers': [['input_5', 0, 0]], 'output_layers': [['conv2d_transpose_10', 0, 0]]}, 'inbound_nodes': [[['encoder', 1, 0, {}]]]}], 'input_layers': [['input', 0, 0]], 'output_layers': [['decoder', 1, 0]]}\n"
     ]
    }
   ],
   "source": [
    "from pprint import pprint\n",
    "model_config = model2.get_config()\n",
    "print(model_config)\n",
    "#pprint(model_config)  ### looks prettier but takes all the space"
   ]
  },
  {
   "cell_type": "code",
   "execution_count": 20,
   "metadata": {},
   "outputs": [],
   "source": [
    "# well i guess that's a no"
   ]
  },
  {
   "cell_type": "code",
   "execution_count": null,
   "metadata": {},
   "outputs": [],
   "source": []
  }
 ],
 "metadata": {
  "kernelspec": {
   "display_name": "Python 3",
   "language": "python",
   "name": "python3"
  },
  "language_info": {
   "codemirror_mode": {
    "name": "ipython",
    "version": 3
   },
   "file_extension": ".py",
   "mimetype": "text/x-python",
   "name": "python",
   "nbconvert_exporter": "python",
   "pygments_lexer": "ipython3",
   "version": "3.6.6"
  }
 },
 "nbformat": 4,
 "nbformat_minor": 2
}
