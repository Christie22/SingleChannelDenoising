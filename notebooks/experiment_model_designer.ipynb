{
 "cells": [
  {
   "cell_type": "code",
   "execution_count": 1,
   "metadata": {},
   "outputs": [
    {
     "name": "stderr",
     "output_type": "stream",
     "text": [
      "Using TensorFlow backend.\n",
      "/home/christie/miniconda3/envs/denoising/lib/python3.6/importlib/_bootstrap.py:219: RuntimeWarning: compiletime version 3.5 of module 'tensorflow.python.framework.fast_tensor_util' does not match runtime version 3.6\n",
      "  return f(*args, **kwds)\n"
     ]
    }
   ],
   "source": [
    "import sys\n",
    "sys.path.append('..')\n",
    "\n",
    "import os\n",
    "import os.path as osp\n",
    "import time\n",
    "import pickle\n",
    "import numpy as np\n",
    "import pandas as pd\n",
    "from keras import backend as K\n",
    "from keras.callbacks import EarlyStopping, ModelCheckpoint, TerminateOnNaN, TensorBoard\n",
    "from sklearn.model_selection import train_test_split\n",
    "\n",
    "# custom modules\n",
    "from libs.utilities import load_dataset, create_autoencoder_model, load_autoencoder_model, load_autoencoder_lossfunc\n",
    "from libs.model_utils import LossLayer\n",
    "from libs.data_generator import DataGenerator\n",
    "from libs.processing import pink_noise, s_to_power\n",
    "\n",
    "# os.getcwd()"
   ]
  },
  {
   "cell_type": "code",
   "execution_count": 2,
   "metadata": {},
   "outputs": [],
   "source": [
    "#### PARAMETERS ####\n",
    "\n",
    "model_source = '../models/tcn.jsont'\n"
   ]
  },
  {
   "cell_type": "code",
   "execution_count": 3,
   "metadata": {},
   "outputs": [],
   "source": [
    "#### OTHER VARS ####\n",
    "# loss function: data slice under consideration\n",
    "time_slice = slice(None)\n",
    "initial_epoch = 0\n",
    "input_shape = (256, 16, 1)\n",
    "use_skip_connections = False\n",
    "template_args = {\"dropout_rate\": 0.2, \"channels\": input_shape[2], \"activ_func\": \"relu\",\n",
    "                 \"timesteps\": input_shape[1], \"use_skip_connections\": str(use_skip_connections).lower(),\n",
    "                \"ker_size\":2, \"dilatations\": [1], \"n_stacks\": 1}\n"
   ]
  },
  {
   "cell_type": "code",
   "execution_count": 4,
   "metadata": {},
   "outputs": [],
   "source": [
    "### SHOW MODEL FILE ###\n",
    "import json\n",
    "import pprint \n",
    "\n",
    "# pprint.pprint(json.load(open(model_source)))"
   ]
  },
  {
   "cell_type": "code",
   "execution_count": 5,
   "metadata": {},
   "outputs": [
    {
     "name": "stdout",
     "output_type": "stream",
     "text": [
      "[u] Creating autoencoder model from ../models/tcn.jsont\n",
      "[u] Model factory parameters: {'input_shape': (256, 16, 1), 'template_args': {'dropout_rate': 0.2, 'channels': 1, 'activ_func': 'relu', 'timesteps': 16, 'use_skip_connections': 'false', 'ker_size': 2, 'dilatations': [1], 'n_stacks': 1}, 'time_slice': slice(None, None, None)}\n",
      "[m] Processing template...\n",
      "[m] Adding layer PERMUTE  -  {'dims': [2, 1, 3]}\n",
      "[m] Adding layer RESHAPE  -  {'target_shape': [16, -1]}\n",
      "[m] Adding layer TCN  -  {'nb_filters': 256, 'dropout_rate': 0.2, 'kernel_size': 2, 'dilations': [1], 'nb_stacks': 1, 'use_skip_connections': False, 'return_sequences': True}\n",
      "[m] Adding layer TCN  -  {'nb_filters': 256, 'dropout_rate': 0.2, 'kernel_size': 2, 'dilations': [1], 'nb_stacks': 1, 'use_skip_connections': False, 'return_sequences': True}\n",
      "[m] Adding layer RESHAPE  -  {'target_shape': [16, -1, 1]}\n",
      "[m] Adding layer PERMUTE  -  {'dims': [2, 1, 3]}\n"
     ]
    }
   ],
   "source": [
    "### TRY AND GENERATE MODEL ###\n",
    "# NOTE: restart the kernel and rerun everything after editing an imported script or lib\n",
    "model, lossfunc = create_autoencoder_model(\n",
    "    model_source, input_shape, template_args, time_slice=time_slice)"
   ]
  },
  {
   "cell_type": "code",
   "execution_count": 6,
   "metadata": {
    "scrolled": false
   },
   "outputs": [
    {
     "name": "stdout",
     "output_type": "stream",
     "text": [
      "____________________________________________________________________________________________________\n",
      "Layer (type)                     Output Shape          Param #     Connected to                     \n",
      "====================================================================================================\n",
      "input_1 (InputLayer)             (None, 256, 16, 1)    0                                            \n",
      "____________________________________________________________________________________________________\n",
      "permute_1 (Permute)              (None, 16, 256, 1)    0           input_1[0][0]                    \n",
      "____________________________________________________________________________________________________\n",
      "reshape_1 (Reshape)              (None, 16, 256)       0           permute_1[0][0]                  \n",
      "____________________________________________________________________________________________________\n",
      "conv1d_1 (Conv1D)                (None, 16, 256)       65792       reshape_1[0][0]                  \n",
      "____________________________________________________________________________________________________\n",
      "conv1d_2 (Conv1D)                (None, 16, 256)       131328      conv1d_1[0][0]                   \n",
      "____________________________________________________________________________________________________\n",
      "activation_1 (Activation)        (None, 16, 256)       0           conv1d_2[0][0]                   \n",
      "____________________________________________________________________________________________________\n",
      "spatial_dropout1d_1 (SpatialDrop (None, 16, 256)       0           activation_1[0][0]               \n",
      "____________________________________________________________________________________________________\n",
      "conv1d_3 (Conv1D)                (None, 16, 256)       131328      spatial_dropout1d_1[0][0]        \n",
      "____________________________________________________________________________________________________\n",
      "activation_2 (Activation)        (None, 16, 256)       0           conv1d_3[0][0]                   \n",
      "____________________________________________________________________________________________________\n",
      "conv1d_4 (Conv1D)                (None, 16, 256)       65792       conv1d_1[0][0]                   \n",
      "____________________________________________________________________________________________________\n",
      "spatial_dropout1d_2 (SpatialDrop (None, 16, 256)       0           activation_2[0][0]               \n",
      "____________________________________________________________________________________________________\n",
      "add_1 (Add)                      (None, 16, 256)       0           conv1d_4[0][0]                   \n",
      "                                                                   spatial_dropout1d_2[0][0]        \n",
      "____________________________________________________________________________________________________\n",
      "conv1d_5 (Conv1D)                (None, 16, 256)       65792       add_1[0][0]                      \n",
      "____________________________________________________________________________________________________\n",
      "conv1d_6 (Conv1D)                (None, 16, 256)       131328      conv1d_5[0][0]                   \n",
      "____________________________________________________________________________________________________\n",
      "activation_3 (Activation)        (None, 16, 256)       0           conv1d_6[0][0]                   \n",
      "____________________________________________________________________________________________________\n",
      "spatial_dropout1d_3 (SpatialDrop (None, 16, 256)       0           activation_3[0][0]               \n",
      "____________________________________________________________________________________________________\n",
      "conv1d_7 (Conv1D)                (None, 16, 256)       131328      spatial_dropout1d_3[0][0]        \n",
      "____________________________________________________________________________________________________\n",
      "activation_4 (Activation)        (None, 16, 256)       0           conv1d_7[0][0]                   \n",
      "____________________________________________________________________________________________________\n",
      "conv1d_8 (Conv1D)                (None, 16, 256)       65792       conv1d_5[0][0]                   \n",
      "____________________________________________________________________________________________________\n",
      "spatial_dropout1d_4 (SpatialDrop (None, 16, 256)       0           activation_4[0][0]               \n",
      "____________________________________________________________________________________________________\n",
      "add_2 (Add)                      (None, 16, 256)       0           conv1d_8[0][0]                   \n",
      "                                                                   spatial_dropout1d_4[0][0]        \n",
      "____________________________________________________________________________________________________\n",
      "reshape_2 (Reshape)              (None, 16, 256, 1)    0           add_2[0][0]                      \n",
      "____________________________________________________________________________________________________\n",
      "permute_2 (Permute)              (None, 256, 16, 1)    0           reshape_2[0][0]                  \n",
      "====================================================================================================\n",
      "Total params: 788,480\n",
      "Trainable params: 788,480\n",
      "Non-trainable params: 0\n",
      "____________________________________________________________________________________________________\n"
     ]
    }
   ],
   "source": [
    "### VERIFY GENERATED MODEL ###\n",
    "model.summary()\n"
   ]
  },
  {
   "cell_type": "code",
   "execution_count": null,
   "metadata": {},
   "outputs": [],
   "source": []
  },
  {
   "cell_type": "code",
   "execution_count": null,
   "metadata": {},
   "outputs": [],
   "source": []
  },
  {
   "cell_type": "markdown",
   "metadata": {},
   "source": [
    "_____\n",
    "# Can we use the built-in Keras Model exporters (dict, yaml, json)?"
   ]
  },
  {
   "cell_type": "code",
   "execution_count": null,
   "metadata": {},
   "outputs": [],
   "source": [
    "### TEST KERAS BUILTIN JSON IMPORT/EXPORT\n",
    "from models.model_example import AEModelFactory\n",
    "obj = AEModelFactory(input_shape, 3, 16)\n",
    "model2 = obj.get_model()"
   ]
  },
  {
   "cell_type": "code",
   "execution_count": null,
   "metadata": {},
   "outputs": [],
   "source": [
    "model2.get_layer('encoder').summary()\n",
    "model2.get_layer('decoder').summary()\n",
    "model2.summary()\n"
   ]
  },
  {
   "cell_type": "code",
   "execution_count": null,
   "metadata": {},
   "outputs": [],
   "source": [
    "from pprint import pprint\n",
    "model_config = model2.get_config()\n",
    "print(model_config)\n",
    "#pprint(model_config)  ### looks prettier but takes all the space"
   ]
  },
  {
   "cell_type": "code",
   "execution_count": null,
   "metadata": {},
   "outputs": [],
   "source": [
    "# well i guess that's a no"
   ]
  },
  {
   "cell_type": "code",
   "execution_count": 24,
   "metadata": {},
   "outputs": [
    {
     "data": {
      "text/plain": [
       "'false'"
      ]
     },
     "execution_count": 24,
     "metadata": {},
     "output_type": "execute_result"
    }
   ],
   "source": []
  },
  {
   "cell_type": "code",
   "execution_count": null,
   "metadata": {},
   "outputs": [],
   "source": []
  }
 ],
 "metadata": {
  "kernelspec": {
   "display_name": "Python 3",
   "language": "python",
   "name": "python3"
  },
  "language_info": {
   "codemirror_mode": {
    "name": "ipython",
    "version": 3
   },
   "file_extension": ".py",
   "mimetype": "text/x-python",
   "name": "python",
   "nbconvert_exporter": "python",
   "pygments_lexer": "ipython3",
   "version": "3.6.6"
  }
 },
 "nbformat": 4,
 "nbformat_minor": 2
}
