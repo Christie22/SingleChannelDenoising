{
 "cells": [
  {
   "cell_type": "code",
   "execution_count": null,
   "metadata": {},
   "outputs": [],
   "source": [
    "from libs.data_generator import DataGenerator\n",
    "from libs.processing import white_noise, s_to_reim, reim_to_s\n",
    "from libs.utilities import load_dataset"
   ]
  },
  {
   "cell_type": "code",
   "execution_count": null,
   "metadata": {},
   "outputs": [],
   "source": [
    "# load some data\n",
    "filepath_list = load_dataset('/data/riccardo_datasets/npr_news/')\n",
    "generator_args = {\n",
    "    'sr': 16000,\n",
    "    'cache_path': None,\n",
    "    'rir_path': '/data/riccardo_datasets/rirs/',\n",
    "    'noise_funcs': [None],\n",
    "    'noise_snrs': [0, 5],\n",
    "    'n_fft': 512,\n",
    "    'hop_length': 128,\n",
    "    'win_length': 512,\n",
    "    'proc_func': s_to_reim,\n",
    "    'proc_func_label': s_to_reim,\n",
    "    'frag_hop_length': 128,\n",
    "    'frag_win_length': 512,\n",
    "    'shuffle': False,\n",
    "    'label_type': 'clean',\n",
    "    'batch_size': 32,\n",
    "}\n",
    "gen = DataGenerator(filepath_list[:2], **generator_args)"
   ]
  },
  {
   "cell_type": "code",
   "execution_count": null,
   "metadata": {},
   "outputs": [],
   "source": [
    "# verify data\n",
    "len(gen)\n",
    "gen[0][0].shape"
   ]
  },
  {
   "cell_type": "code",
   "execution_count": null,
   "metadata": {},
   "outputs": [],
   "source": [
    "# convert to complex S\n",
    "y1_batch = reim_to_s(gen[0][0])\n",
    "y2_batch = reim_to_s(gen[0][1])"
   ]
  },
  {
   "cell_type": "code",
   "execution_count": null,
   "metadata": {},
   "outputs": [],
   "source": [
    "# verifuy shape\n",
    "y1_batch.shape\n",
    "y2_batch.shape"
   ]
  },
  {
   "cell_type": "code",
   "execution_count": null,
   "metadata": {},
   "outputs": [],
   "source": [
    "# get first elem of batch\n",
    "y1_0 = y1_batch[0]\n",
    "y2_0 = y2_batch[0]"
   ]
  }
 ],
 "metadata": {
  "kernelspec": {
   "display_name": "Python 3",
   "language": "python",
   "name": "python3"
  },
  "language_info": {
   "codemirror_mode": {
    "name": "ipython",
    "version": 3
   },
   "file_extension": ".py",
   "mimetype": "text/x-python",
   "name": "python",
   "nbconvert_exporter": "python",
   "pygments_lexer": "ipython3",
   "version": "3.6.8"
  }
 },
 "nbformat": 4,
 "nbformat_minor": 2
}
