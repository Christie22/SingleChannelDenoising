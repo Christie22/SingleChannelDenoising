{
 "cells": [
  {
   "cell_type": "code",
   "execution_count": 1,
   "metadata": {
    "colab": {},
    "colab_type": "code",
    "id": "MFyZ_NOC_VNI"
   },
   "outputs": [
    {
     "name": "stdout",
     "output_type": "stream",
     "text": [
      "/home/christie/SingleChannelDenoising_source/notebooks\n"
     ]
    },
    {
     "name": "stderr",
     "output_type": "stream",
     "text": [
      "Using TensorFlow backend.\n",
      "/home/christie/miniconda3/envs/denoising/lib/python3.6/importlib/_bootstrap.py:219: RuntimeWarning: compiletime version 3.5 of module 'tensorflow.python.framework.fast_tensor_util' does not match runtime version 3.6\n",
      "  return f(*args, **kwds)\n"
     ]
    }
   ],
   "source": [
    "# get a trained model, a noisy piece of data, and feed the latter into the former\n",
    "import sys\n",
    "sys.path.append('..')\n",
    "\n",
    "\n",
    "import os\n",
    "from os import path\n",
    "cwd = os.getcwd()\n",
    "print(cwd)\n",
    "\n",
    "import numpy as np\n",
    "import random as rnd\n",
    "#from keras.models import load_model\n",
    "import librosa\n",
    "# DSP functions such as applying noise, RIRs, or data representation conversions\n",
    "\n",
    "import pandas as pd\n",
    "import time\n",
    "import scipy\n",
    "import glob\n",
    "\n",
    "# generate seed from the time at which this script is run\n",
    "rnd.seed(int(time.time()))\n",
    "import matplotlib.pyplot as plt \n",
    "\n",
    "# from libs.processing import s_to_reim, reim_to_s, make_fragments, unmake_fragments\n",
    "from libs.processing import s_to_reim, reim_to_s, make_fragments, unmake_fragments, pink_noise, white_noise, velvet_noise\n",
    "from libs.utilities import load_autoencoder_lossfunc, load_autoencoder_model, load_dataset\n",
    "\n",
    "# # from scripts.denoise import denoise"
   ]
  },
  {
   "cell_type": "code",
   "execution_count": 2,
   "metadata": {},
   "outputs": [],
   "source": [
    "# get a trained model, a noisy piece of data, and feed the latter into the former\n",
    "\n",
    "# import os\n",
    "# import numpy as np\n",
    "# #from keras.models import load_model\n",
    "# import librosa\n",
    "\n",
    "# #from libs.data_generator import DataGenerator\n",
    "# from libs.utilities import load_autoencoder_lossfunc, load_autoencoder_model\n",
    "# #from libs.model_utils import LossLayer\n",
    "# from libs.processing import s_to_reim, reim_to_s, make_fragments, unmake_fragments\n",
    "\n",
    "def denoise(model_name, model_path, input_path, output_path,\n",
    "        sr, n_fft, hop_length, win_length, frag_hop_length, frag_win_length, \n",
    "        batch_size):\n",
    "\n",
    "    print('[n] Applying model {} at {} on data in {}'.format(model_name, model_path, input_path))\n",
    "    print('[n] Denoising parameters: {}'.format({\n",
    "        'model_name': model_name,\n",
    "        'model_path': model_path,\n",
    "        'input_path': input_path,\n",
    "        'output_path': output_path,\n",
    "    }))\n",
    "\n",
    "    # set GPU devices\n",
    "#     os.environ[\"CUDA_VISIBLE_DEVICES\"] = cuda_device\n",
    "\n",
    "    ## Input data handling\n",
    "    print('[dn] Loading data from {}...'.format(input_path))\n",
    "    # load data from file name\n",
    "    x_noisy, _ = librosa.core.load(input_path, sr=sr)\n",
    "    # convert to TF-domain\n",
    "    s = librosa.core.stft(x_noisy, n_fft=n_fft, hop_length=hop_length, win_length=win_length)\n",
    "    # apply pre-processing (data representation)\n",
    "    y_proc = s_to_reim(s)\n",
    "    # split into fragments\n",
    "    y_frags_noisy = make_fragments(y_proc, frag_hop_len=frag_hop_length, frag_win_len=frag_win_length)\n",
    "    y_frags_noisy = np.array(y_frags_noisy)\n",
    "    print('[dn] Generated {} fragments with shape {}'.format(len(y_frags_noisy), y_frags_noisy[0].shape))\n",
    "    # Normalization per fragment\n",
    "    std_frag = np.empty(len(y_frags_noisy))\n",
    "    for i, yy in enumerate(y_frags_noisy):\n",
    "        std_frag[i] = np.std(yy)\n",
    "        yy = (yy - np.mean(yy))/std_frag[i]\n",
    "    print('[dn] Normalized fragments with shape {}'.format( y_frags_noisy.shape))\n",
    "    \n",
    "    # load trained model\n",
    "    print('[dn] Asking for loading model from {}...'.format(model_path))\n",
    "    lossfunc = load_autoencoder_lossfunc(model_name)\n",
    "    _, _, model = load_autoencoder_model(model_path, {'lossfunc': lossfunc})\n",
    "    # print model summary\n",
    "    #model.summary()\n",
    "\n",
    "    # prediction on data\n",
    "    print('[dn] Predicting with trained model...')\n",
    "    y_frags_pred = model.predict(y_frags_noisy)\n",
    "    print('[dn] Prediction finished!')\n",
    "\n",
    "    ## Perform inverse operations on data\n",
    "    # Inverse normalization\n",
    "    for i, yy in enumerate(y_frags_pred):\n",
    "        yy = yy *std_frag[i] # + np.mean(ss)\n",
    "    # convert to complex spectrogram\n",
    "    s_pred = reim_to_s(y_frags_pred)\n",
    "    # undo batches\n",
    "    s_pred = unmake_fragments(s_pred, frag_hop_len=frag_hop_length, frag_win_len=frag_win_length)\n",
    "    # get absolute spectrogram\n",
    "    s_pred = np.abs(s_pred) ** 2\n",
    "    # get waveform\n",
    "    x_pred = librosa.istft(s_pred, hop_length=hop_length, win_length=win_length)\n",
    "    \n",
    "    # store cleaned audio as wav file\n",
    "    librosa.output.write_wav(output_path, x_pred, sr=sr)\n",
    "\n",
    "    # very slow at the beginning then very fast (real-time possible)\n",
    "    #np.save('cleaned_data_pred', cleaned_data_pred)\n",
    "    print('Cleaned data is reconstructed and stored at {}'.format(output_path))\n",
    "\n",
    "\n",
    "    print('[dn] Done!')\n"
   ]
  },
  {
   "cell_type": "code",
   "execution_count": 50,
   "metadata": {
    "colab": {},
    "colab_type": "code",
    "id": "rMPpMk4wDMAd",
    "scrolled": true
   },
   "outputs": [],
   "source": [
    "def take_file_as_noise(filepath, sr):\n",
    "    # checking TODO\n",
    "    print('Using the following file as noise: {0}'.format(filepath))\n",
    "    # path = os.path.join(filepath + '.wav')\n",
    "    \n",
    "    load_noise = librosa.core.load(filepath, sr)[0]\n",
    "    print(load_noise.shape)\n",
    "#     print(np.mean(load_noise))\n",
    "#     load_noise = glob.glob(filepath)\n",
    "    plt.plot(load_noise[:sr*4]), plt.show()\n",
    "#     print(type(load_noise))\n",
    "    \n",
    "    def noising_prototype(x, SNR):\n",
    "        N = np.max(x.shape)\n",
    "#         print(N)\n",
    "        x_norm = ((x - np.mean(x)/np.std(x)))\n",
    "        sigma = np.sqrt( (x_norm @ x_norm.T) / (N * 10**(SNR/10)) )\n",
    "        print(sigma)\n",
    "        \n",
    "        n_noise=((load_noise - np.mean(load_noise)/np.std(load_noise)))\n",
    "#         plt.plot(n_noise), plt.show()\n",
    "        \n",
    "        noise =  sigma * n_noise #+ np.mean(load_noise) \n",
    "        \n",
    "        while np.max(noise.shape) != np.max(x.shape):\n",
    "            if np.max(noise.shape) < np.max(x.shape):\n",
    "                print('Noise shorter than signal. Appending flipped noise to itself.')\n",
    "                noise.append(noise[::-1])\n",
    "#                 load_noise = load_noise[:np.max(x.shape)]\n",
    "            elif np.max(noise.shape) > np.max(x.shape):\n",
    "                print('Noise longer than signal. Trimming it.')\n",
    "                noise = noise[:np.max(x.shape)]\n",
    "        print('Out of the loop!')\n",
    "        plt.subplot(3,1,1),plt.plot(noise), plt.title('noise'),plt.show()\n",
    "        plt.subplot(3,1,1),plt.plot(x_norm), plt.title('x'),plt.show()\n",
    "        plt.subplot(3,1,1),plt.plot(x_norm + noise), plt.title('x_noisy'),plt.show()\n",
    "        \n",
    "        x_noised = x_norm + noise\n",
    "        return (x_noised)/np.max(x_noised)\n",
    "    return noising_prototype\n"
   ]
  },
  {
   "cell_type": "code",
   "execution_count": 4,
   "metadata": {
    "colab": {},
    "colab_type": "code",
    "id": "3_a5sBye_aw6"
   },
   "outputs": [],
   "source": [
    "# x, sr = librosa.load(librosa.util.example_audio_file(),sr=16000)\n",
    "# N = len(x)\n",
    "# t = np.arange(0,N/sr,1/sr)\n",
    "# snr = 0\n",
    "# sigma = np.sqrt(x@(x.T)/(N*10**(snr/10)));\n",
    "# x_noisy = x+ velvet_noise(x,snr)#x + [sigma* rnd.uniform(-.1,.1) for tt in range(len(t)) ]\n",
    "\n",
    "\n"
   ]
  },
  {
   "cell_type": "code",
   "execution_count": 5,
   "metadata": {},
   "outputs": [],
   "source": [
    "filepath = '/data/riccardo_datasets/cnn_news/newsday032213.wav'\n",
    "sr=10000"
   ]
  },
  {
   "cell_type": "code",
   "execution_count": 51,
   "metadata": {
    "colab": {
     "base_uri": "https://localhost:8080/",
     "height": 51
    },
    "colab_type": "code",
    "id": "IJpxVvP0_75b",
    "outputId": "efb8301a-40ef-4cef-c9a3-af901f014e93"
   },
   "outputs": [
    {
     "name": "stdout",
     "output_type": "stream",
     "text": [
      "Using the following file as noise: /data/riccardo_datasets/cnn_news/newsday032213.wav\n",
      "(14912262,)\n"
     ]
    },
    {
     "data": {
      "image/png": "[encoded data removed]",
      "text/plain": [
       "<Figure size 432x288 with 1 Axes>"
      ]
     },
     "metadata": {
      "needs_background": "light"
     },
     "output_type": "display_data"
    }
   ],
   "source": [
    "# noise= pink_noise\n",
    "noise = take_file_as_noise(filepath, sr)"
   ]
  },
  {
   "cell_type": "code",
   "execution_count": 7,
   "metadata": {},
   "outputs": [
    {
     "name": "stdout",
     "output_type": "stream",
     "text": [
      "(12338155,)\n"
     ]
    }
   ],
   "source": [
    "x, sr = librosa.core.load('/data/riccardo_datasets/cnn_news/newsday032113.wav', sr=sr)\n",
    "print(x.shape)"
   ]
  },
  {
   "cell_type": "code",
   "execution_count": 54,
   "metadata": {},
   "outputs": [
    {
     "name": "stdout",
     "output_type": "stream",
     "text": [
      "60.06553515625\n",
      "Noise longer than signal. Trimming it.\n",
      "Out of the loop!\n"
     ]
    },
    {
     "data": {
      "image/png": "[encoded data removed]",
      "text/plain": [
       "<Figure size 432x288 with 1 Axes>"
      ]
     },
     "metadata": {
      "needs_background": "light"
     },
     "output_type": "display_data"
    },
    {
     "data": {
      "image/png": "[encoded data removed]",
      "text/plain": [
       "<Figure size 432x288 with 1 Axes>"
      ]
     },
     "metadata": {
      "needs_background": "light"
     },
     "output_type": "display_data"
    },
    {
     "data": {
      "image/png": "[encoded data removed]",
      "text/plain": [
       "<Figure size 432x288 with 1 Axes>"
      ]
     },
     "metadata": {
      "needs_background": "light"
     },
     "output_type": "display_data"
    }
   ],
   "source": [
    "snr=30\n",
    "x_noisy = noise(x,snr)#x + [sigma* rnd.uniform(-.1,.1) for tt in range(len(t)) ]\n",
    "# (x.shape, x_noisy.shape)\n"
   ]
  },
  {
   "cell_type": "code",
   "execution_count": 30,
   "metadata": {
    "colab": {
     "base_uri": "https://localhost:8080/",
     "height": 398
    },
    "colab_type": "code",
    "id": "gbsBk_X2T12b",
    "outputId": "c8a42d00-0797-4474-b5ab-bf325a97f77e"
   },
   "outputs": [
    {
     "data": {
      "image/png": "[encoded data removed]",
      "text/plain": [
       "<Figure size 432x288 with 2 Axes>"
      ]
     },
     "metadata": {
      "needs_background": "light"
     },
     "output_type": "display_data"
    }
   ],
   "source": [
    "plt.subplot(2,1,1), plt.plot(x[:sr*2]),\n",
    "plt.subplot(2,1,2), plt.plot(x_noisy[:sr*2]), \n",
    "plt.show()"
   ]
  },
  {
   "cell_type": "markdown",
   "metadata": {
    "colab_type": "text",
    "id": "d8RcFXRzD7L-"
   },
   "source": []
  },
  {
   "cell_type": "code",
   "execution_count": 10,
   "metadata": {
    "colab": {},
    "colab_type": "code",
    "id": "3SQeewgNAvMS"
   },
   "outputs": [],
   "source": [
    "n_fft = 512\n",
    "\n",
    "hop_length = 256\n",
    "win_length  =512\n",
    "\n",
    "frag_hop_length= 256\n",
    "frag_win_length=512"
   ]
  },
  {
   "cell_type": "code",
   "execution_count": 11,
   "metadata": {
    "colab": {
     "base_uri": "https://localhost:8080/",
     "height": 306
    },
    "colab_type": "code",
    "id": "kF4gDhBRAZBr",
    "outputId": "b572397b-42e0-4f05-e267-7eea3cb88bf8"
   },
   "outputs": [
    {
     "name": "stdout",
     "output_type": "stream",
     "text": [
      "[n] Generated 187 fragments with shape (257, 512)\n"
     ]
    },
    {
     "ename": "IndexError",
     "evalue": "index 222 is out of bounds for axis 0 with size 187",
     "output_type": "error",
     "traceback": [
      "\u001b[0;31m---------------------------------------------------------------------------\u001b[0m",
      "\u001b[0;31mIndexError\u001b[0m                                Traceback (most recent call last)",
      "\u001b[0;32m<ipython-input-11-a5b62d14a78d>\u001b[0m in \u001b[0;36m<module>\u001b[0;34m\u001b[0m\n\u001b[1;32m      9\u001b[0m \u001b[0my_frags_noisy\u001b[0m \u001b[0;34m=\u001b[0m \u001b[0mnp\u001b[0m\u001b[0;34m.\u001b[0m\u001b[0marray\u001b[0m\u001b[0;34m(\u001b[0m\u001b[0my_frags_noisy\u001b[0m\u001b[0;34m)\u001b[0m\u001b[0;34m\u001b[0m\u001b[0m\n\u001b[1;32m     10\u001b[0m \u001b[0mprint\u001b[0m\u001b[0;34m(\u001b[0m\u001b[0;34m'[n] Generated {} fragments with shape {}'\u001b[0m\u001b[0;34m.\u001b[0m\u001b[0mformat\u001b[0m\u001b[0;34m(\u001b[0m\u001b[0mlen\u001b[0m\u001b[0;34m(\u001b[0m\u001b[0my_frags_noisy\u001b[0m\u001b[0;34m)\u001b[0m\u001b[0;34m,\u001b[0m \u001b[0my_frags_noisy\u001b[0m\u001b[0;34m[\u001b[0m\u001b[0;36m0\u001b[0m\u001b[0;34m]\u001b[0m\u001b[0;34m.\u001b[0m\u001b[0mshape\u001b[0m\u001b[0;34m)\u001b[0m\u001b[0;34m)\u001b[0m\u001b[0;34m\u001b[0m\u001b[0m\n\u001b[0;32m---> 11\u001b[0;31m \u001b[0mlibrosa\u001b[0m\u001b[0;34m.\u001b[0m\u001b[0mdisplay\u001b[0m\u001b[0;34m.\u001b[0m\u001b[0mspecshow\u001b[0m\u001b[0;34m(\u001b[0m\u001b[0my_frags_noisy\u001b[0m\u001b[0;34m[\u001b[0m\u001b[0;36m222\u001b[0m\u001b[0;34m,\u001b[0m\u001b[0;34m:\u001b[0m\u001b[0;34m,\u001b[0m\u001b[0;34m:\u001b[0m\u001b[0;34m]\u001b[0m\u001b[0;34m)\u001b[0m\u001b[0;34m\u001b[0m\u001b[0m\n\u001b[0m\u001b[1;32m     12\u001b[0m \u001b[0;34m\u001b[0m\u001b[0m\n\u001b[1;32m     13\u001b[0m \u001b[0;31m# Normalization per fragment\u001b[0m\u001b[0;34m\u001b[0m\u001b[0;34m\u001b[0m\u001b[0m\n",
      "\u001b[0;31mIndexError\u001b[0m: index 222 is out of bounds for axis 0 with size 187"
     ]
    }
   ],
   "source": [
    "s = librosa.core.stft(x_noisy, n_fft=n_fft, hop_length=hop_length, win_length=frag_win_length)\n",
    "\n",
    "if_s_to_reim = False #True\n",
    "# apply pre-processing (data representation)\n",
    "y_proc = s_to_reim(s) if if_s_to_reim else s\n",
    "\n",
    "# split into fragments\n",
    "y_frags_noisy = make_fragments(y_proc, frag_hop_len=frag_hop_length, frag_win_len=frag_win_length)\n",
    "y_frags_noisy = np.array(y_frags_noisy)\n",
    "print('[n] Generated {} fragments with shape {}'.format(len(y_frags_noisy), y_frags_noisy[0].shape))\n",
    "librosa.display.specshow(y_frags_noisy[222,:,:])\n",
    "\n",
    "# Normalization per fragment\n",
    "std_frag = np.empty(len(y_frags_noisy))\n",
    "for i, yy in enumerate(y_frags_noisy):\n",
    "    print(yy.shape)\n",
    "    std_frag[i] = np.std(yy)\n",
    "    yy = (yy - np.mean(yy))/std_frag[i]\n",
    "# print(y_frags_noisy[0,:,:,0], y_frags_noisy[0,:,:,1])\n",
    "# print(np.mean(y_frags_noisy[0]))"
   ]
  },
  {
   "cell_type": "code",
   "execution_count": null,
   "metadata": {
    "colab": {
     "base_uri": "https://localhost:8080/",
     "height": 364
    },
    "colab_type": "code",
    "id": "VKb1u0ZuD-K5",
    "outputId": "6186f2d5-e3bc-4d11-cd11-1842f1a6acc5"
   },
   "outputs": [],
   "source": [
    "plt.plot(std_frag), plt.show()\n",
    "# plt.plot(np.std(y_frags_noisy)), plt.show()"
   ]
  },
  {
   "cell_type": "code",
   "execution_count": null,
   "metadata": {
    "colab": {
     "base_uri": "https://localhost:8080/",
     "height": 51
    },
    "colab_type": "code",
    "id": "DdFWEk-IEV7X",
    "outputId": "505b9a6e-7436-4b02-dc13-5aca6b4152d3"
   },
   "outputs": [],
   "source": [
    "# s_noisy = librosa.core.stft(x_noisy, n_fft=n_fft, hop_length=hop_length, win_length=frag_win_length)\n",
    "# s_reim = s_to_reim(s_noisy)\n",
    "# s_frag = make_fragments(s_reim, frag_hop_len=frag_hop_length, frag_win_len=frag_win_length)\n",
    "\n",
    "# for i, yy in enumerate(s_frag):\n",
    "#     yy = (yy - np.mean(yy))/std_frag[i]\n",
    "\n",
    "    # prediction on data\n",
    "print('[n] Predicting with trained model...')\n",
    "y_frags_pred = y_frags_noisy# s_frag #to be simple, let just put the clean oe as the predicted one\n",
    "print('[n] Prediction finished!')\n",
    "\n",
    "\n",
    "librosa.display.specshow(y_frags_pred[222,:,:])\n",
    "# plt.subplot(2,1,1), plt.plot(x),\n",
    "# plt.subplot(2,1,2), plt.plot(x_noisy), plt.show()"
   ]
  },
  {
   "cell_type": "code",
   "execution_count": null,
   "metadata": {
    "colab": {
     "base_uri": "https://localhost:8080/",
     "height": 289
    },
    "colab_type": "code",
    "id": "NJydwcRBfJ09",
    "outputId": "4a39ea04-b2b6-479e-f548-ae1757eb1ef5"
   },
   "outputs": [],
   "source": [
    "## Perform inverse operations on data\n",
    "# Inverse normalization\n",
    "for i, yy in enumerate(y_frags_pred):\n",
    "    print(yy.shape)\n",
    "    yy = yy *std_frag[i] #+ np.mean(yy)\n",
    "y_frags_pred = np.array(y_frags_pred)\n",
    "print('y_frags_pred: ',y_frags_pred.shape)\n",
    "\n",
    "# convert to complex spectrogram\n",
    "s_pred = reim_to_s(y_frags_pred) if if_s_to_reim else y_frags_pred\n",
    "# undo batches\n",
    "s_pred = unmake_fragments(s_pred, frag_hop_len=frag_hop_length, frag_win_len=frag_win_length)\n",
    "\n",
    "# get absolute spectrogram\n",
    "# s_pred = np.abs(s_pred) ** 2\n",
    "# get waveform\n",
    "x_pred = librosa.istft(s_pred, hop_length=hop_length, win_length=win_length)"
   ]
  },
  {
   "cell_type": "code",
   "execution_count": null,
   "metadata": {
    "colab": {
     "base_uri": "https://localhost:8080/",
     "height": 364
    },
    "colab_type": "code",
    "id": "Zg3SKj7qecoa",
    "outputId": "1f3ee764-a2e5-4938-bcad-08e499690fd4"
   },
   "outputs": [],
   "source": [
    "plt.subplot(2,1,1), plt.plot(x_pred),\n",
    "plt.subplot(2,1,2), plt.plot(x_noisy), plt.show()\n",
    "(np.max(x_noisy), np.max(x_pred))"
   ]
  },
  {
   "cell_type": "code",
   "execution_count": null,
   "metadata": {},
   "outputs": [],
   "source": [
    "model_name='model_e12'\n",
    "model_path = '/data/riccardo_models/denoising/model_e12.h5'\n",
    "input_path = '/data/riccardo_datasets/npr_news/test/20180321_atc_decline_in_hunters_threatens_how_us_pays_for_conservation_.wav'\n",
    "# mkdir('/data/riccardo_datasets/cnn_news/denoised')\n",
    "output_path = '/data/riccardo_datasets/npr_news/denoised/'\n",
    "batch_size = 32\n",
    "# cuda_device"
   ]
  },
  {
   "cell_type": "code",
   "execution_count": null,
   "metadata": {},
   "outputs": [],
   "source": [
    "denoise(model_name, model_path, input_path, output_path,\n",
    "        sr, n_fft, hop_length, win_length, frag_hop_length, frag_win_length, \n",
    "        batch_size)"
   ]
  },
  {
   "cell_type": "code",
   "execution_count": 49,
   "metadata": {},
   "outputs": [
    {
     "data": {
      "text/plain": [
       "1.0"
      ]
     },
     "execution_count": 49,
     "metadata": {},
     "output_type": "execute_result"
    }
   ],
   "source": [
    "10**np.log10(1)"
   ]
  },
  {
   "cell_type": "code",
   "execution_count": null,
   "metadata": {},
   "outputs": [],
   "source": []
  }
 ],
 "metadata": {
  "colab": {
   "collapsed_sections": [],
   "name": "experiment_denoise.ipynb",
   "provenance": [],
   "version": "0.3.2"
  },
  "kernelspec": {
   "display_name": "Python 3",
   "language": "python",
   "name": "python3"
  },
  "language_info": {
   "codemirror_mode": {
    "name": "ipython",
    "version": 3
   },
   "file_extension": ".py",
   "mimetype": "text/x-python",
   "name": "python",
   "nbconvert_exporter": "python",
   "pygments_lexer": "ipython3",
   "version": "3.6.6"
  }
 },
 "nbformat": 4,
 "nbformat_minor": 1
}
