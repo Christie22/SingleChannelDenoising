{
 "cells": [
  {
   "cell_type": "markdown",
   "metadata": {},
   "source": [
    "# Mel frequency scale\n",
    "> Experiments with convertion to/from Mel frequency scale\n",
    "## Good readings\n",
    "- http://kom.aau.dk/group/04gr742/pdf/MFCC_worksheet.pdf\n",
    "- https://haythamfayek.com/2016/04/21/speech-processing-for-machine-learning.html\n",
    "- https://librosa.github.io/librosa/generated/librosa.filters.mel.html\n"
   ]
  },
  {
   "cell_type": "code",
   "execution_count": 2,
   "metadata": {},
   "outputs": [],
   "source": [
    "import librosa as lr\n",
    "import librosa.display\n",
    "import numpy as np\n",
    "import matplotlib.pyplot as plt\n"
   ]
  },
  {
   "cell_type": "code",
   "execution_count": 15,
   "metadata": {},
   "outputs": [
    {
     "ename": "SyntaxError",
     "evalue": "'return' outside function (<ipython-input-15-72b8bd4f6423>, line 12)",
     "output_type": "error",
     "traceback": [
      "\u001b[0;36m  File \u001b[0;32m\"<ipython-input-15-72b8bd4f6423>\"\u001b[0;36m, line \u001b[0;32m12\u001b[0m\n\u001b[0;31m    return S, n_fft\u001b[0m\n\u001b[0m                   ^\u001b[0m\n\u001b[0;31mSyntaxError\u001b[0m\u001b[0;31m:\u001b[0m 'return' outside function\n"
     ]
    }
   ],
   "source": [
    "# apply a mel spectrogram as per docs\n",
    "y, sr = librosa.load(librosa.util.example_audio_file())\n",
    "S1 = librosa.feature.melspectrogram(y=y, sr=sr)\n",
    "\n",
    "if S is not None:\n",
    "    # Infer n_fft from spectrogram shape\n",
    "    \n",
    "else:\n",
    "    # Otherwise, compute a magnitude spectrogram from input\n",
    "    S = np.abs(stft(y, n_fft=n_fft, hop_length=hop_length))**power\n",
    "\n",
    "return S, n_fft\n",
    "\n",
    "\n",
    "# using a precalculated power spectrum\n",
    "D = np.abs(librosa.stft(y, fft=2048))**2\n",
    "n_fft = 2 * (D.shape[0] - 1)\n",
    "S2 = librosa.feature.melspectrogram(S=D)\n",
    "\n",
    "# are they the same?\n",
    "print('Shape: {}'.format(S1.shape))\n",
    "print(S1)\n",
    "print('Shape: {}'.format(S2.shape))\n",
    "print(S2)"
   ]
  },
  {
   "cell_type": "code",
   "execution_count": null,
   "metadata": {},
   "outputs": [],
   "source": [
    "# yes they are! let's make a mel filter manually\n",
    "\n",
    "# create filter as per docs\n",
    "# https://librosa.github.io/librosa/generated/librosa.filters.mel.html?highlight=mel#librosa.filters.mel\n",
    "melfb = librosa.filters.mel(sr, n_fft)\n",
    "print('Shape: {}'.format(melfb.shape))\n",
    "plt.figure()\n",
    "librosa.display.specshow(melfb, x_axis='linear')\n",
    "plt.ylabel('Mel filter')\n",
    "plt.title('Mel filter bank')\n",
    "plt.colorbar()\n",
    "plt.tight_layout()\n"
   ]
  },
  {
   "cell_type": "code",
   "execution_count": 8,
   "metadata": {},
   "outputs": [
    {
     "name": "stdout",
     "output_type": "stream",
     "text": [
      "Shape: (128, 1025)\n"
     ]
    },
    {
     "ename": "NameError",
     "evalue": "name 'n_fft' is not defined",
     "output_type": "error",
     "traceback": [
      "\u001b[0;31m---------------------------------------------------------------------------\u001b[0m",
      "\u001b[0;31mNameError\u001b[0m                                 Traceback (most recent call last)",
      "\u001b[0;32m<ipython-input-8-0c0a1086fd1c>\u001b[0m in \u001b[0;36m<module>\u001b[0;34m\u001b[0m\n\u001b[1;32m      9\u001b[0m \u001b[0mplt\u001b[0m\u001b[0;34m.\u001b[0m\u001b[0mcolorbar\u001b[0m\u001b[0;34m(\u001b[0m\u001b[0;34m)\u001b[0m\u001b[0;34m\u001b[0m\u001b[0m\n\u001b[1;32m     10\u001b[0m \u001b[0mplt\u001b[0m\u001b[0;34m.\u001b[0m\u001b[0mtight_layout\u001b[0m\u001b[0;34m(\u001b[0m\u001b[0;34m)\u001b[0m\u001b[0;34m\u001b[0m\u001b[0m\n\u001b[0;32m---> 11\u001b[0;31m \u001b[0msr\u001b[0m\u001b[0;34m,\u001b[0m \u001b[0mn_fft\u001b[0m\u001b[0;34m\u001b[0m\u001b[0m\n\u001b[0m",
      "\u001b[0;31mNameError\u001b[0m: name 'n_fft' is not defined"
     ]
    },
    {
     "data": {
      "image/png": "[encoded data removed]",
      "text/plain": [
       "<Figure size 432x288 with 2 Axes>"
      ]
     },
     "metadata": {
      "needs_background": "light"
     },
     "output_type": "display_data"
    }
   ],
   "source": []
  },
  {
   "cell_type": "code",
   "execution_count": null,
   "metadata": {},
   "outputs": [],
   "source": [
    "# using our mel filter\n",
    "S3 = np.dot(melfb, S)\n",
    "\n",
    "\n",
    "print('Shape: {}'.format(S3.shape))\n",
    "print(S3)"
   ]
  },
  {
   "cell_type": "code",
   "execution_count": null,
   "metadata": {},
   "outputs": [],
   "source": []
  }
 ],
 "metadata": {
  "kernelspec": {
   "display_name": "Python 3",
   "language": "python",
   "name": "python3"
  },
  "language_info": {
   "codemirror_mode": {
    "name": "ipython",
    "version": 3
   },
   "file_extension": ".py",
   "mimetype": "text/x-python",
   "name": "python",
   "nbconvert_exporter": "python",
   "pygments_lexer": "ipython3",
   "version": "3.5.2"
  }
 },
 "nbformat": 4,
 "nbformat_minor": 2
}
